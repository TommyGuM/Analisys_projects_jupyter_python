{
 "cells": [
  {
   "cell_type": "markdown",
   "id": "fd100b68-adda-4493-ba76-b6fef8877cb6",
   "metadata": {},
   "source": [
    "# Исследовательский анализ пользователей мобильного приложения"
   ]
  },
  {
   "cell_type": "markdown",
   "id": "17e09cd7-6ee0-4f8d-91f4-5bc756182d93",
   "metadata": {},
   "source": [
    "### Описание проекта "
   ]
  },
  {
   "cell_type": "markdown",
   "id": "dd1c4acc-2497-46f5-9325-42946801cc2c",
   "metadata": {},
   "source": [
    "- Дизайнеры захотели поменять шрифты во всём приложении, а менеджеры испугались, что пользователям будет непривычно. Договорились принять решение по результатам A/A/B-теста.\n",
    "- Пользователей разбили на 3 группы: 2 контрольные со старыми шрифтами и одну экспериментальную — с новыми\n",
    "- Изучим воронку продаж\n",
    "\n",
    "Известно, что мобильное прилодение разработано для реализации продуктов питания. В основе нашего исследования будут использованы данные поведения пользователей в приложении с наименованием событий, датой, id пользователя."
   ]
  },
  {
   "cell_type": "markdown",
   "id": "d50c03f6-642d-4dec-9265-3d965f7f4004",
   "metadata": {},
   "source": [
    "### Цель проекта :"
   ]
  },
  {
   "cell_type": "markdown",
   "id": "f49f3e90-e33d-4dda-8552-13171003b315",
   "metadata": {},
   "source": [
    "Определить пользователи какой версии приложения (с новой или старой версией шрифта) ведут себя эффективнее на каждом этапе использования. А так же выявить на каком из шагов, пользователи так и не совершают заказ и статистически показать разницу в результатах исследования. "
   ]
  },
  {
   "cell_type": "markdown",
   "id": "3927ddc0-9228-4c61-af02-e8874cb720fb",
   "metadata": {},
   "source": [
    "### План работы"
   ]
  },
  {
   "cell_type": "markdown",
   "id": "37691b1f-fe2a-46e6-9310-5d3930e4b25d",
   "metadata": {},
   "source": [
    "- Загрузить данные\n",
    "- Произвести предобработку данных. Проверить на пропуски значений, дубликаты, ошибки типов данных.\n",
    "- Изучить воронку событий\n",
    "- Изучить результаты эксперимента\n",
    "- Сделать выводы."
   ]
  },
  {
   "cell_type": "markdown",
   "id": "250d5530-c81b-42f8-87f0-d6541fd1b200",
   "metadata": {},
   "source": [
    "### Импорт библиотек "
   ]
  },
  {
   "cell_type": "code",
   "execution_count": 54,
   "id": "c0d23093-f3ae-4a25-93a0-e1f4aaebfa02",
   "metadata": {},
   "outputs": [],
   "source": [
    "import pandas as pd\n",
    "import numpy as np\n",
    "import matplotlib.pyplot as plt\n",
    "import seaborn as sns\n",
    "import datetime as dt\n",
    "import scipy.stats as st\n",
    "import math as mth\n",
    "import plotly.express as px\n",
    "from plotly import graph_objects as go\n",
    "\n",
    "import warnings\n",
    "warnings.filterwarnings(action='ignore')"
   ]
  },
  {
   "cell_type": "markdown",
   "id": "8c3d3949-b5cb-4ae8-ac86-25d61f5948af",
   "metadata": {},
   "source": [
    "### Шаг №1. Загрузка данных"
   ]
  },
  {
   "cell_type": "code",
   "execution_count": 55,
   "id": "db5c6cc3-667d-4a2e-a3d3-78fcf0c1cdc3",
   "metadata": {},
   "outputs": [],
   "source": [
    "try:\n",
    "    log = pd.read_csv('C:\\\\Users\\\\tema-\\\\Downloads\\\\Jupyter\\\\Doc_csv\\\\logs_exp.csv', sep= '\\t' )\n",
    "except:\n",
    "    log = pd.read_csv('/datasets/logs_exp.csv', sep= '\\t')"
   ]
  },
  {
   "cell_type": "code",
   "execution_count": 56,
   "id": "f3b2b137-a156-4c30-832c-14761160804a",
   "metadata": {},
   "outputs": [
    {
     "data": {
      "text/html": [
       "<div>\n",
       "<style scoped>\n",
       "    .dataframe tbody tr th:only-of-type {\n",
       "        vertical-align: middle;\n",
       "    }\n",
       "\n",
       "    .dataframe tbody tr th {\n",
       "        vertical-align: top;\n",
       "    }\n",
       "\n",
       "    .dataframe thead th {\n",
       "        text-align: right;\n",
       "    }\n",
       "</style>\n",
       "<table border=\"1\" class=\"dataframe\">\n",
       "  <thead>\n",
       "    <tr style=\"text-align: right;\">\n",
       "      <th></th>\n",
       "      <th>EventName</th>\n",
       "      <th>DeviceIDHash</th>\n",
       "      <th>EventTimestamp</th>\n",
       "      <th>ExpId</th>\n",
       "    </tr>\n",
       "  </thead>\n",
       "  <tbody>\n",
       "    <tr>\n",
       "      <th>0</th>\n",
       "      <td>MainScreenAppear</td>\n",
       "      <td>4575588528974610257</td>\n",
       "      <td>1564029816</td>\n",
       "      <td>246</td>\n",
       "    </tr>\n",
       "    <tr>\n",
       "      <th>1</th>\n",
       "      <td>MainScreenAppear</td>\n",
       "      <td>7416695313311560658</td>\n",
       "      <td>1564053102</td>\n",
       "      <td>246</td>\n",
       "    </tr>\n",
       "    <tr>\n",
       "      <th>2</th>\n",
       "      <td>PaymentScreenSuccessful</td>\n",
       "      <td>3518123091307005509</td>\n",
       "      <td>1564054127</td>\n",
       "      <td>248</td>\n",
       "    </tr>\n",
       "    <tr>\n",
       "      <th>3</th>\n",
       "      <td>CartScreenAppear</td>\n",
       "      <td>3518123091307005509</td>\n",
       "      <td>1564054127</td>\n",
       "      <td>248</td>\n",
       "    </tr>\n",
       "    <tr>\n",
       "      <th>4</th>\n",
       "      <td>PaymentScreenSuccessful</td>\n",
       "      <td>6217807653094995999</td>\n",
       "      <td>1564055322</td>\n",
       "      <td>248</td>\n",
       "    </tr>\n",
       "    <tr>\n",
       "      <th>...</th>\n",
       "      <td>...</td>\n",
       "      <td>...</td>\n",
       "      <td>...</td>\n",
       "      <td>...</td>\n",
       "    </tr>\n",
       "    <tr>\n",
       "      <th>244121</th>\n",
       "      <td>MainScreenAppear</td>\n",
       "      <td>4599628364049201812</td>\n",
       "      <td>1565212345</td>\n",
       "      <td>247</td>\n",
       "    </tr>\n",
       "    <tr>\n",
       "      <th>244122</th>\n",
       "      <td>MainScreenAppear</td>\n",
       "      <td>5849806612437486590</td>\n",
       "      <td>1565212439</td>\n",
       "      <td>246</td>\n",
       "    </tr>\n",
       "    <tr>\n",
       "      <th>244123</th>\n",
       "      <td>MainScreenAppear</td>\n",
       "      <td>5746969938801999050</td>\n",
       "      <td>1565212483</td>\n",
       "      <td>246</td>\n",
       "    </tr>\n",
       "    <tr>\n",
       "      <th>244124</th>\n",
       "      <td>MainScreenAppear</td>\n",
       "      <td>5746969938801999050</td>\n",
       "      <td>1565212498</td>\n",
       "      <td>246</td>\n",
       "    </tr>\n",
       "    <tr>\n",
       "      <th>244125</th>\n",
       "      <td>OffersScreenAppear</td>\n",
       "      <td>5746969938801999050</td>\n",
       "      <td>1565212517</td>\n",
       "      <td>246</td>\n",
       "    </tr>\n",
       "  </tbody>\n",
       "</table>\n",
       "<p>244126 rows × 4 columns</p>\n",
       "</div>"
      ],
      "text/plain": [
       "                      EventName         DeviceIDHash  EventTimestamp  ExpId\n",
       "0              MainScreenAppear  4575588528974610257      1564029816    246\n",
       "1              MainScreenAppear  7416695313311560658      1564053102    246\n",
       "2       PaymentScreenSuccessful  3518123091307005509      1564054127    248\n",
       "3              CartScreenAppear  3518123091307005509      1564054127    248\n",
       "4       PaymentScreenSuccessful  6217807653094995999      1564055322    248\n",
       "...                         ...                  ...             ...    ...\n",
       "244121         MainScreenAppear  4599628364049201812      1565212345    247\n",
       "244122         MainScreenAppear  5849806612437486590      1565212439    246\n",
       "244123         MainScreenAppear  5746969938801999050      1565212483    246\n",
       "244124         MainScreenAppear  5746969938801999050      1565212498    246\n",
       "244125       OffersScreenAppear  5746969938801999050      1565212517    246\n",
       "\n",
       "[244126 rows x 4 columns]"
      ]
     },
     "execution_count": 56,
     "metadata": {},
     "output_type": "execute_result"
    }
   ],
   "source": [
    "log"
   ]
  },
  {
   "cell_type": "code",
   "execution_count": 57,
   "id": "8c14d7ab-d738-407d-a77d-50ca57b47ab3",
   "metadata": {},
   "outputs": [
    {
     "name": "stdout",
     "output_type": "stream",
     "text": [
      "<class 'pandas.core.frame.DataFrame'>\n",
      "RangeIndex: 244126 entries, 0 to 244125\n",
      "Data columns (total 4 columns):\n",
      " #   Column          Non-Null Count   Dtype \n",
      "---  ------          --------------   ----- \n",
      " 0   EventName       244126 non-null  object\n",
      " 1   DeviceIDHash    244126 non-null  int64 \n",
      " 2   EventTimestamp  244126 non-null  int64 \n",
      " 3   ExpId           244126 non-null  int64 \n",
      "dtypes: int64(3), object(1)\n",
      "memory usage: 7.5+ MB\n"
     ]
    }
   ],
   "source": [
    "log.info()"
   ]
  },
  {
   "cell_type": "markdown",
   "id": "9d4019f5-0bb3-4098-8564-688b0f0bd082",
   "metadata": {},
   "source": [
    "Итоги обзора :\n",
    "- типы данных с датой не приведены к нужному формату\n",
    "- наименования стобцов в разном регистре, без пробелов\n",
    "- пропусков данных не обнаружено"
   ]
  },
  {
   "cell_type": "markdown",
   "id": "32dce966-bb06-4061-aeb1-e1b6b4a0a32f",
   "metadata": {},
   "source": [
    "Данные log:\n",
    "- EventName — название события\n",
    "- DeviceIDHash — уникальный идентификатор пользователя\n",
    "- EventTimestamp — время события\n",
    "- ExpId — номер эксперимента: 246 и 247 — контрольные группы, а 248 — экспериментальная"
   ]
  },
  {
   "cell_type": "markdown",
   "id": "149e9a04-39e6-4501-8601-cec381b0905a",
   "metadata": {},
   "source": [
    "### Шаг №2. Обработка данных"
   ]
  },
  {
   "cell_type": "markdown",
   "id": "f1ab8ef0-76c6-4fcc-a7b0-f7d5098e0d12",
   "metadata": {},
   "source": [
    "Наименования столбцов приведем к нужному регистру."
   ]
  },
  {
   "cell_type": "code",
   "execution_count": 58,
   "id": "3ed621e5-c8ac-4ff3-b11b-a6126d222d2c",
   "metadata": {},
   "outputs": [
    {
     "data": {
      "text/plain": [
       "Index(['eventname', 'deviceidhash', 'eventtimestamp', 'expid'], dtype='object')"
      ]
     },
     "execution_count": 58,
     "metadata": {},
     "output_type": "execute_result"
    }
   ],
   "source": [
    "log.columns = log.columns.str.lower()\n",
    "log.eventname = log.eventname.str.lower()\n",
    "log.columns "
   ]
  },
  {
   "cell_type": "markdown",
   "id": "dc56299e-baef-47e9-8d0e-b1e01df79557",
   "metadata": {},
   "source": [
    "Разделим нижним подчеркиванием и переименуем названия колонок для удобства."
   ]
  },
  {
   "cell_type": "code",
   "execution_count": 59,
   "id": "8840e616-5724-4c78-b9a2-447d39c52a3c",
   "metadata": {},
   "outputs": [
    {
     "data": {
      "text/plain": [
       "Index(['event_name', 'user_id', 'event_dt', 'group'], dtype='object')"
      ]
     },
     "metadata": {},
     "output_type": "display_data"
    }
   ],
   "source": [
    "log = log.rename(columns={'eventname': 'event_name', \n",
    "                          'deviceidhash': 'user_id', \n",
    "                          'eventtimestamp': 'event_dt', \n",
    "                          'expid': 'group'}) \n",
    "display(log.columns)"
   ]
  },
  {
   "cell_type": "markdown",
   "id": "aac5d6a5-96e6-4f5e-b96c-f8bcca0ac876",
   "metadata": {},
   "source": [
    "Приведем столбец с датами к нужному формату"
   ]
  },
  {
   "cell_type": "code",
   "execution_count": 60,
   "id": "197683ae-6159-40b2-bd73-f6052f4cb85b",
   "metadata": {},
   "outputs": [
    {
     "data": {
      "text/plain": [
       "dtype('<M8[ns]')"
      ]
     },
     "metadata": {},
     "output_type": "display_data"
    },
    {
     "data": {
      "text/html": [
       "<div>\n",
       "<style scoped>\n",
       "    .dataframe tbody tr th:only-of-type {\n",
       "        vertical-align: middle;\n",
       "    }\n",
       "\n",
       "    .dataframe tbody tr th {\n",
       "        vertical-align: top;\n",
       "    }\n",
       "\n",
       "    .dataframe thead th {\n",
       "        text-align: right;\n",
       "    }\n",
       "</style>\n",
       "<table border=\"1\" class=\"dataframe\">\n",
       "  <thead>\n",
       "    <tr style=\"text-align: right;\">\n",
       "      <th></th>\n",
       "      <th>event_name</th>\n",
       "      <th>user_id</th>\n",
       "      <th>event_dt</th>\n",
       "      <th>group</th>\n",
       "    </tr>\n",
       "  </thead>\n",
       "  <tbody>\n",
       "    <tr>\n",
       "      <th>0</th>\n",
       "      <td>mainscreenappear</td>\n",
       "      <td>4575588528974610257</td>\n",
       "      <td>2019-07-25 04:43:36</td>\n",
       "      <td>246</td>\n",
       "    </tr>\n",
       "    <tr>\n",
       "      <th>1</th>\n",
       "      <td>mainscreenappear</td>\n",
       "      <td>7416695313311560658</td>\n",
       "      <td>2019-07-25 11:11:42</td>\n",
       "      <td>246</td>\n",
       "    </tr>\n",
       "    <tr>\n",
       "      <th>2</th>\n",
       "      <td>paymentscreensuccessful</td>\n",
       "      <td>3518123091307005509</td>\n",
       "      <td>2019-07-25 11:28:47</td>\n",
       "      <td>248</td>\n",
       "    </tr>\n",
       "    <tr>\n",
       "      <th>3</th>\n",
       "      <td>cartscreenappear</td>\n",
       "      <td>3518123091307005509</td>\n",
       "      <td>2019-07-25 11:28:47</td>\n",
       "      <td>248</td>\n",
       "    </tr>\n",
       "    <tr>\n",
       "      <th>4</th>\n",
       "      <td>paymentscreensuccessful</td>\n",
       "      <td>6217807653094995999</td>\n",
       "      <td>2019-07-25 11:48:42</td>\n",
       "      <td>248</td>\n",
       "    </tr>\n",
       "  </tbody>\n",
       "</table>\n",
       "</div>"
      ],
      "text/plain": [
       "                event_name              user_id            event_dt  group\n",
       "0         mainscreenappear  4575588528974610257 2019-07-25 04:43:36    246\n",
       "1         mainscreenappear  7416695313311560658 2019-07-25 11:11:42    246\n",
       "2  paymentscreensuccessful  3518123091307005509 2019-07-25 11:28:47    248\n",
       "3         cartscreenappear  3518123091307005509 2019-07-25 11:28:47    248\n",
       "4  paymentscreensuccessful  6217807653094995999 2019-07-25 11:48:42    248"
      ]
     },
     "metadata": {},
     "output_type": "display_data"
    }
   ],
   "source": [
    "log['event_dt'] = pd.to_datetime(log['event_dt'], unit = 's')\n",
    "display(log['event_dt'].dtypes)\n",
    "display(log.head())"
   ]
  },
  {
   "cell_type": "markdown",
   "id": "4bc6006f-fcc8-43c9-868e-de81c4750d78",
   "metadata": {},
   "source": [
    "Добавим отдельный столбец с датой"
   ]
  },
  {
   "cell_type": "code",
   "execution_count": 61,
   "id": "cfe57ac8-7604-47ba-b617-b43a4c7c15ca",
   "metadata": {},
   "outputs": [
    {
     "data": {
      "text/html": [
       "<div>\n",
       "<style scoped>\n",
       "    .dataframe tbody tr th:only-of-type {\n",
       "        vertical-align: middle;\n",
       "    }\n",
       "\n",
       "    .dataframe tbody tr th {\n",
       "        vertical-align: top;\n",
       "    }\n",
       "\n",
       "    .dataframe thead th {\n",
       "        text-align: right;\n",
       "    }\n",
       "</style>\n",
       "<table border=\"1\" class=\"dataframe\">\n",
       "  <thead>\n",
       "    <tr style=\"text-align: right;\">\n",
       "      <th></th>\n",
       "      <th>event_name</th>\n",
       "      <th>user_id</th>\n",
       "      <th>event_dt</th>\n",
       "      <th>group</th>\n",
       "      <th>date</th>\n",
       "    </tr>\n",
       "  </thead>\n",
       "  <tbody>\n",
       "    <tr>\n",
       "      <th>0</th>\n",
       "      <td>mainscreenappear</td>\n",
       "      <td>4575588528974610257</td>\n",
       "      <td>2019-07-25 04:43:36</td>\n",
       "      <td>246</td>\n",
       "      <td>2019-07-25</td>\n",
       "    </tr>\n",
       "    <tr>\n",
       "      <th>1</th>\n",
       "      <td>mainscreenappear</td>\n",
       "      <td>7416695313311560658</td>\n",
       "      <td>2019-07-25 11:11:42</td>\n",
       "      <td>246</td>\n",
       "      <td>2019-07-25</td>\n",
       "    </tr>\n",
       "    <tr>\n",
       "      <th>2</th>\n",
       "      <td>paymentscreensuccessful</td>\n",
       "      <td>3518123091307005509</td>\n",
       "      <td>2019-07-25 11:28:47</td>\n",
       "      <td>248</td>\n",
       "      <td>2019-07-25</td>\n",
       "    </tr>\n",
       "    <tr>\n",
       "      <th>3</th>\n",
       "      <td>cartscreenappear</td>\n",
       "      <td>3518123091307005509</td>\n",
       "      <td>2019-07-25 11:28:47</td>\n",
       "      <td>248</td>\n",
       "      <td>2019-07-25</td>\n",
       "    </tr>\n",
       "    <tr>\n",
       "      <th>4</th>\n",
       "      <td>paymentscreensuccessful</td>\n",
       "      <td>6217807653094995999</td>\n",
       "      <td>2019-07-25 11:48:42</td>\n",
       "      <td>248</td>\n",
       "      <td>2019-07-25</td>\n",
       "    </tr>\n",
       "  </tbody>\n",
       "</table>\n",
       "</div>"
      ],
      "text/plain": [
       "                event_name              user_id            event_dt  group  \\\n",
       "0         mainscreenappear  4575588528974610257 2019-07-25 04:43:36    246   \n",
       "1         mainscreenappear  7416695313311560658 2019-07-25 11:11:42    246   \n",
       "2  paymentscreensuccessful  3518123091307005509 2019-07-25 11:28:47    248   \n",
       "3         cartscreenappear  3518123091307005509 2019-07-25 11:28:47    248   \n",
       "4  paymentscreensuccessful  6217807653094995999 2019-07-25 11:48:42    248   \n",
       "\n",
       "         date  \n",
       "0  2019-07-25  \n",
       "1  2019-07-25  \n",
       "2  2019-07-25  \n",
       "3  2019-07-25  \n",
       "4  2019-07-25  "
      ]
     },
     "metadata": {},
     "output_type": "display_data"
    }
   ],
   "source": [
    "log['date'] = pd.to_datetime(log['event_dt']).dt.date\n",
    "display(log.head())"
   ]
  },
  {
   "cell_type": "markdown",
   "id": "c996e184-3b7d-4c12-acbd-ff2f752e85b0",
   "metadata": {},
   "source": [
    "Посчитаем наличие явных и неявных дубликатов, так как данные привели к общему регистру"
   ]
  },
  {
   "cell_type": "code",
   "execution_count": 62,
   "id": "57ea6093-6c95-46d9-9262-d800b37f15de",
   "metadata": {},
   "outputs": [
    {
     "data": {
      "text/plain": [
       "'Дубликаты в log'"
      ]
     },
     "metadata": {},
     "output_type": "display_data"
    },
    {
     "data": {
      "text/plain": [
       "413"
      ]
     },
     "metadata": {},
     "output_type": "display_data"
    }
   ],
   "source": [
    "display('Дубликаты в log', log.duplicated().sum())"
   ]
  },
  {
   "cell_type": "markdown",
   "id": "585a8ed3-e39b-443f-bcc9-ff2c10eeba21",
   "metadata": {},
   "source": [
    "413 строк из 244126 несущественное количество удалим эти строки"
   ]
  },
  {
   "cell_type": "code",
   "execution_count": 63,
   "id": "6a3c34ec-f30e-42a5-af00-beb4fab7a4e2",
   "metadata": {},
   "outputs": [
    {
     "data": {
      "text/plain": [
       "'Дубликаты в log'"
      ]
     },
     "metadata": {},
     "output_type": "display_data"
    },
    {
     "data": {
      "text/plain": [
       "0"
      ]
     },
     "metadata": {},
     "output_type": "display_data"
    }
   ],
   "source": [
    "log = log.drop_duplicates().reset_index(drop=True)\n",
    "display('Дубликаты в log', log.duplicated().sum())"
   ]
  },
  {
   "cell_type": "markdown",
   "id": "072877d2-dc3e-4297-9d7f-8db03ce5cdfd",
   "metadata": {},
   "source": [
    "### Шаг 3. Изучим и проверим  данные"
   ]
  },
  {
   "cell_type": "markdown",
   "id": "ffa47bf5-6ceb-4522-87e2-994242142e34",
   "metadata": {},
   "source": [
    "Сколько всего событий в логе"
   ]
  },
  {
   "cell_type": "code",
   "execution_count": 64,
   "id": "1c82628b-d93e-463f-ab5d-f195185e2b26",
   "metadata": {},
   "outputs": [
    {
     "data": {
      "text/plain": [
       "array(['mainscreenappear', 'paymentscreensuccessful', 'cartscreenappear',\n",
       "       'offersscreenappear', 'tutorial'], dtype=object)"
      ]
     },
     "execution_count": 64,
     "metadata": {},
     "output_type": "execute_result"
    }
   ],
   "source": [
    "log['event_name'].unique()"
   ]
  },
  {
   "cell_type": "markdown",
   "id": "24ca3caf-51d7-4cbb-bf97-01304c9a33c1",
   "metadata": {},
   "source": [
    "Получаем 5 типов событий и 243713  записей"
   ]
  },
  {
   "cell_type": "markdown",
   "id": "c5c39d37-9ed8-427c-8664-4e37395b7519",
   "metadata": {},
   "source": [
    "Сколько всего пользователей в логе"
   ]
  },
  {
   "cell_type": "code",
   "execution_count": 65,
   "id": "4acc8a8c-e5b0-41d5-9889-ed7fc680ca80",
   "metadata": {},
   "outputs": [
    {
     "name": "stdout",
     "output_type": "stream",
     "text": [
      "7551 Пользователей\n"
     ]
    }
   ],
   "source": [
    "print(log['user_id'].nunique(),'Пользователей')"
   ]
  },
  {
   "cell_type": "markdown",
   "id": "9c93a9d9-d955-4884-9220-28b3a5adb1a0",
   "metadata": {},
   "source": [
    "Сколько в среднем событий приходится на пользователя"
   ]
  },
  {
   "cell_type": "code",
   "execution_count": 66,
   "id": "a33b9ea5-e599-4386-8c45-eebcb7b80a84",
   "metadata": {},
   "outputs": [
    {
     "data": {
      "text/html": [
       "<div>\n",
       "<style scoped>\n",
       "    .dataframe tbody tr th:only-of-type {\n",
       "        vertical-align: middle;\n",
       "    }\n",
       "\n",
       "    .dataframe tbody tr th {\n",
       "        vertical-align: top;\n",
       "    }\n",
       "\n",
       "    .dataframe thead th {\n",
       "        text-align: right;\n",
       "    }\n",
       "</style>\n",
       "<table border=\"1\" class=\"dataframe\">\n",
       "  <thead>\n",
       "    <tr style=\"text-align: right;\">\n",
       "      <th></th>\n",
       "      <th>event_name</th>\n",
       "    </tr>\n",
       "  </thead>\n",
       "  <tbody>\n",
       "    <tr>\n",
       "      <th>count</th>\n",
       "      <td>7551.000000</td>\n",
       "    </tr>\n",
       "    <tr>\n",
       "      <th>mean</th>\n",
       "      <td>32.275593</td>\n",
       "    </tr>\n",
       "    <tr>\n",
       "      <th>std</th>\n",
       "      <td>65.154219</td>\n",
       "    </tr>\n",
       "    <tr>\n",
       "      <th>min</th>\n",
       "      <td>1.000000</td>\n",
       "    </tr>\n",
       "    <tr>\n",
       "      <th>25%</th>\n",
       "      <td>9.000000</td>\n",
       "    </tr>\n",
       "    <tr>\n",
       "      <th>50%</th>\n",
       "      <td>20.000000</td>\n",
       "    </tr>\n",
       "    <tr>\n",
       "      <th>75%</th>\n",
       "      <td>37.000000</td>\n",
       "    </tr>\n",
       "    <tr>\n",
       "      <th>max</th>\n",
       "      <td>2307.000000</td>\n",
       "    </tr>\n",
       "  </tbody>\n",
       "</table>\n",
       "</div>"
      ],
      "text/plain": [
       "        event_name\n",
       "count  7551.000000\n",
       "mean     32.275593\n",
       "std      65.154219\n",
       "min       1.000000\n",
       "25%       9.000000\n",
       "50%      20.000000\n",
       "75%      37.000000\n",
       "max    2307.000000"
      ]
     },
     "execution_count": 66,
     "metadata": {},
     "output_type": "execute_result"
    }
   ],
   "source": [
    "log.groupby('user_id').agg({'event_name':'count'}).describe()"
   ]
  },
  {
   "cell_type": "markdown",
   "id": "4aeb2e9f-ab0c-4012-8868-d98c6dce0e41",
   "metadata": {},
   "source": [
    "Видно что есть выбросы максимальное значение достигает 2307 событий на пользователя, построим график чтобы стало понятнее."
   ]
  },
  {
   "cell_type": "code",
   "execution_count": 67,
   "id": "fad9b72d-362c-471d-973e-2d87040ebde0",
   "metadata": {},
   "outputs": [
    {
     "data": {
      "image/png": "[encoded data removed]",
      "text/plain": [
       "<Figure size 1400x600 with 1 Axes>"
      ]
     },
     "metadata": {},
     "output_type": "display_data"
    }
   ],
   "source": [
    "avg_event = log.groupby('user_id').agg({'event_name':'count'}).rename(columns={'event_name':'event_count'})\n",
    "avg_event.hist(figsize=(14,6), range=(0,500))\n",
    "plt.title('Гистограмма количества событий на пользователя')\n",
    "plt.ylabel('Количество пользователей ')\n",
    "plt.xlabel('Количество событий');"
   ]
  },
  {
   "cell_type": "markdown",
   "id": "7a544e87-a97f-4c52-afc0-6fcd88c1a446",
   "metadata": {},
   "source": [
    "Основное количество пользователей находится в диапазоне событий от 0 до 100, посмотрим процентили событий на каждого пользователя"
   ]
  },
  {
   "cell_type": "code",
   "execution_count": 68,
   "id": "b01d7b26-af90-42a8-a750-be67abcf4905",
   "metadata": {},
   "outputs": [
    {
     "name": "stdout",
     "output_type": "stream",
     "text": [
      "90, 95 и 99 процентили количества событий на одного пользователя: [ 64.   89.  200.5]\n"
     ]
    }
   ],
   "source": [
    "print('90, 95 и 99 процентили количества событий на одного пользователя:', np.percentile(avg_event['event_count'], [90, 95, 99])) "
   ]
  },
  {
   "cell_type": "code",
   "execution_count": 69,
   "id": "70253f71-37fe-422f-9222-9634329eeac7",
   "metadata": {},
   "outputs": [
    {
     "data": {
      "text/html": [
       "<div>\n",
       "<style scoped>\n",
       "    .dataframe tbody tr th:only-of-type {\n",
       "        vertical-align: middle;\n",
       "    }\n",
       "\n",
       "    .dataframe tbody tr th {\n",
       "        vertical-align: top;\n",
       "    }\n",
       "\n",
       "    .dataframe thead th {\n",
       "        text-align: right;\n",
       "    }\n",
       "</style>\n",
       "<table border=\"1\" class=\"dataframe\">\n",
       "  <thead>\n",
       "    <tr style=\"text-align: right;\">\n",
       "      <th></th>\n",
       "      <th>event_count</th>\n",
       "    </tr>\n",
       "  </thead>\n",
       "  <tbody>\n",
       "    <tr>\n",
       "      <th>count</th>\n",
       "      <td>7190.000000</td>\n",
       "    </tr>\n",
       "    <tr>\n",
       "      <th>mean</th>\n",
       "      <td>24.162865</td>\n",
       "    </tr>\n",
       "    <tr>\n",
       "      <th>std</th>\n",
       "      <td>19.580701</td>\n",
       "    </tr>\n",
       "    <tr>\n",
       "      <th>min</th>\n",
       "      <td>1.000000</td>\n",
       "    </tr>\n",
       "    <tr>\n",
       "      <th>25%</th>\n",
       "      <td>9.000000</td>\n",
       "    </tr>\n",
       "    <tr>\n",
       "      <th>50%</th>\n",
       "      <td>18.000000</td>\n",
       "    </tr>\n",
       "    <tr>\n",
       "      <th>75%</th>\n",
       "      <td>34.000000</td>\n",
       "    </tr>\n",
       "    <tr>\n",
       "      <th>max</th>\n",
       "      <td>90.000000</td>\n",
       "    </tr>\n",
       "  </tbody>\n",
       "</table>\n",
       "</div>"
      ],
      "text/plain": [
       "       event_count\n",
       "count  7190.000000\n",
       "mean     24.162865\n",
       "std      19.580701\n",
       "min       1.000000\n",
       "25%       9.000000\n",
       "50%      18.000000\n",
       "75%      34.000000\n",
       "max      90.000000"
      ]
     },
     "execution_count": 69,
     "metadata": {},
     "output_type": "execute_result"
    }
   ],
   "source": [
    "avg_event.query('event_count <= 90').describe()"
   ]
  },
  {
   "cell_type": "markdown",
   "id": "b5de73b0-bb6e-4162-a826-c26e29cfd87f",
   "metadata": {},
   "source": [
    "Можно сделать вывод о том что в среднем на 1 пользователя приходится 19 событий, медиана составляет 24 события."
   ]
  },
  {
   "cell_type": "markdown",
   "id": "97a552aa-1d6b-4984-9514-8a2c2601f2fa",
   "metadata": {},
   "source": [
    "Сохраним в отдельный датафрейм записи без учета аномального количества событий"
   ]
  },
  {
   "cell_type": "code",
   "execution_count": 70,
   "id": "e9d2add5-d792-43d3-b18c-7b68f93ac25f",
   "metadata": {},
   "outputs": [
    {
     "name": "stdout",
     "output_type": "stream",
     "text": [
      "Количество событий в отфильтрованном датафрейме : 173731\n"
     ]
    }
   ],
   "source": [
    "avg_event = avg_event.loc[avg_event['event_count'] <= 90].reset_index()\n",
    "log_f = log[log['user_id'].isin(avg_event['user_id'])].reset_index(drop=True)\n",
    "print('Количество событий в отфильтрованном датафрейме :' ,len(log_f))"
   ]
  },
  {
   "cell_type": "markdown",
   "id": "33df5092-9bc7-4684-b515-e97919e9e5b4",
   "metadata": {},
   "source": [
    " Найдем максимальную и минимальную дату"
   ]
  },
  {
   "cell_type": "code",
   "execution_count": 71,
   "id": "fc0d9b4f-0bf0-4561-8e45-319e77870f06",
   "metadata": {},
   "outputs": [
    {
     "name": "stdout",
     "output_type": "stream",
     "text": [
      "Минимальная дата 2019-07-25 04:43:36\n",
      "Максимальная дата 2019-08-07 21:15:17\n",
      "Рассматриваемый период 13 days 16:31:41\n"
     ]
    }
   ],
   "source": [
    "print('Минимальная дата', log['event_dt'].min())\n",
    "print('Максимальная дата', log['event_dt'].max())\n",
    "print('Рассматриваемый период', (log['event_dt'].max()) - log['event_dt'].min())"
   ]
  },
  {
   "cell_type": "markdown",
   "id": "be2c1148-7def-4a92-b6b8-6284def09716",
   "metadata": {},
   "source": [
    "Располагаем данными за 13 полных суток и 16 часов, условно можем взять для работы период в 14 дней"
   ]
  },
  {
   "cell_type": "markdown",
   "id": "f1c4a31b-65ed-40f3-9eba-3a64c63c5fbb",
   "metadata": {},
   "source": [
    "Построим столбчатую диаграмму, которая отобразит количество событий в зависимости от времени в разрезе групп"
   ]
  },
  {
   "cell_type": "code",
   "execution_count": 72,
   "id": "c5ac7150-35ab-4d21-9916-830cd3b5373d",
   "metadata": {},
   "outputs": [
    {
     "data": {
      "image/png": "[encoded data removed]",
      "text/plain": [
       "<Figure size 1400x600 with 1 Axes>"
      ]
     },
     "metadata": {},
     "output_type": "display_data"
    }
   ],
   "source": [
    "(log[log['group']==246].groupby('event_dt').agg(\n",
    "                            {'event_name':'count'})\n",
    "                         .sort_values(by ='event_dt',ascending=False)\n",
    "                         .reset_index()\n",
    "                         .hist(column = 'event_dt',\n",
    "                               bins=500,\n",
    "                               figsize=(14,6),\n",
    "                               xrot= 30\n",
    "                             ))\n",
    "\n",
    "plt.xlabel('Дата')\n",
    "plt.ylabel('Количество событий')\n",
    "plt.title('Диаграмма количества событий по времени группы 246');"
   ]
  },
  {
   "cell_type": "code",
   "execution_count": 73,
   "id": "d51f11a3-cffa-43f0-a26c-6102d410c632",
   "metadata": {},
   "outputs": [
    {
     "data": {
      "image/png": "[encoded data removed]",
      "text/plain": [
       "<Figure size 1400x600 with 1 Axes>"
      ]
     },
     "metadata": {},
     "output_type": "display_data"
    }
   ],
   "source": [
    "(log[log['group']==247].groupby('event_dt').agg(\n",
    "                            {'event_name':'count'})\n",
    "                         .sort_values(by ='event_dt',ascending=False)\n",
    "                         .reset_index()\n",
    "                         .hist(column = 'event_dt',\n",
    "                               bins=500,\n",
    "                               figsize=(14,6),\n",
    "                               xrot= 30                            \n",
    "                              ))\n",
    "plt.xlabel('Дата')\n",
    "plt.ylabel('Количество событий')\n",
    "plt.title('Диаграмма количества событий по времени группы 247');"
   ]
  },
  {
   "cell_type": "code",
   "execution_count": 74,
   "id": "97839eb8-5a45-4f44-acbd-f04e40af0644",
   "metadata": {},
   "outputs": [
    {
     "data": {
      "image/png": "[encoded data removed]",
      "text/plain": [
       "<Figure size 1400x600 with 1 Axes>"
      ]
     },
     "metadata": {},
     "output_type": "display_data"
    }
   ],
   "source": [
    "(log[log['group']==248].groupby('event_dt').agg(\n",
    "                            {'event_name':'count'})\n",
    "                         .sort_values(by ='event_dt',ascending=False)\n",
    "                         .reset_index()\n",
    "                         .hist(column = 'event_dt',\n",
    "                               bins=500,\n",
    "                               figsize=(14,6),\n",
    "                               xrot= 30                             \n",
    "                              ))\n",
    "plt.xlabel('Дата')\n",
    "plt.ylabel('Количество событий')\n",
    "plt.title('Диаграмма количества событий по времени группы 248');"
   ]
  },
  {
   "cell_type": "markdown",
   "id": "c275fdfb-91dc-49cc-b632-7bb0b0e8b48d",
   "metadata": {},
   "source": [
    "На графиках заметно, что основная активность пользователей сосредоточена от 2019-08-01, можно сделать вывод, что данные по которым мы сможем найти интересующие нас показатели находятся в промежутке с 2019-08-01 по 2019-08-07, т.е полные 7 дней."
   ]
  },
  {
   "cell_type": "markdown",
   "id": "9acd3517-c86f-4e44-b7b1-09995140df65",
   "metadata": {},
   "source": [
    "Проверим много ли событий и пользователей мы потеряем, отбросив старые данные"
   ]
  },
  {
   "cell_type": "code",
   "execution_count": 75,
   "id": "39436c11-bdc6-4de7-a51e-d31290e4eec9",
   "metadata": {},
   "outputs": [],
   "source": [
    "log_f['date'] = pd.to_datetime(log_f['date'], format='%Y-%m-%d')\n",
    "log_f = log_f.loc[(log_f['date'] >= '2019-08-01')\n",
    "                     & (log_f['date'] <= '2019-08-07')]"
   ]
  },
  {
   "cell_type": "code",
   "execution_count": 76,
   "id": "515e8f5a-b496-4497-b43e-2e8997a94f35",
   "metadata": {},
   "outputs": [
    {
     "name": "stdout",
     "output_type": "stream",
     "text": [
      "Количество событий в отфильтрованном датафрейме : 171321\n",
      "Количество уникальных пользователей в отфильтрованном датафрейме : 7173\n"
     ]
    }
   ],
   "source": [
    "print('Количество событий в отфильтрованном датафрейме :' ,len(log_f))\n",
    "print('Количество уникальных пользователей в отфильтрованном датафрейме :' ,log_f['user_id'].nunique())"
   ]
  },
  {
   "cell_type": "code",
   "execution_count": 77,
   "id": "a6f199c8-d394-4822-92e6-c74db8d3b9fe",
   "metadata": {},
   "outputs": [
    {
     "name": "stdout",
     "output_type": "stream",
     "text": [
      "Количество пользователей  : 378\n",
      "Доля от общего количества пользователей: 1.053\n",
      "Количество событий : 72392\n",
      "Доля от общего количества событий : 1.423\n"
     ]
    }
   ],
   "source": [
    "\n",
    "print('Количество пользователей  :', log['user_id'].nunique() - log_f['user_id'].nunique())\n",
    "print('Доля от общего количества пользователей:', round(log['user_id'].nunique() / log_f['user_id'].nunique(),3))\n",
    "print('Количество событий :', len(log)-len(log_f))\n",
    "print('Доля от общего количества событий :', round(len(log) / len(log_f),3))"
   ]
  },
  {
   "cell_type": "markdown",
   "id": "47bdb22f-90fb-4dd2-91d8-ebf9cef4c7c9",
   "metadata": {},
   "source": [
    "Проверим, что у нас есть пользователи из всех трёх экспериментальных групп"
   ]
  },
  {
   "cell_type": "code",
   "execution_count": 78,
   "id": "bea0b0ae-c2e3-436c-a501-fe3fb0a91d0b",
   "metadata": {},
   "outputs": [
    {
     "data": {
      "text/html": [
       "<div>\n",
       "<style scoped>\n",
       "    .dataframe tbody tr th:only-of-type {\n",
       "        vertical-align: middle;\n",
       "    }\n",
       "\n",
       "    .dataframe tbody tr th {\n",
       "        vertical-align: top;\n",
       "    }\n",
       "\n",
       "    .dataframe thead th {\n",
       "        text-align: right;\n",
       "    }\n",
       "</style>\n",
       "<table border=\"1\" class=\"dataframe\">\n",
       "  <thead>\n",
       "    <tr style=\"text-align: right;\">\n",
       "      <th></th>\n",
       "      <th>count_user</th>\n",
       "    </tr>\n",
       "    <tr>\n",
       "      <th>group</th>\n",
       "      <th></th>\n",
       "    </tr>\n",
       "  </thead>\n",
       "  <tbody>\n",
       "    <tr>\n",
       "      <th>246</th>\n",
       "      <td>2365</td>\n",
       "    </tr>\n",
       "    <tr>\n",
       "      <th>247</th>\n",
       "      <td>2399</td>\n",
       "    </tr>\n",
       "    <tr>\n",
       "      <th>248</th>\n",
       "      <td>2409</td>\n",
       "    </tr>\n",
       "  </tbody>\n",
       "</table>\n",
       "</div>"
      ],
      "text/plain": [
       "       count_user\n",
       "group            \n",
       "246          2365\n",
       "247          2399\n",
       "248          2409"
      ]
     },
     "execution_count": 78,
     "metadata": {},
     "output_type": "execute_result"
    }
   ],
   "source": [
    "log_f.groupby('group').agg({'user_id':'nunique'}).rename(columns={'user_id':'count_user'})"
   ]
  },
  {
   "cell_type": "markdown",
   "id": "01842540-449e-4799-9712-ac866468db48",
   "metadata": {},
   "source": [
    "Вывод: Располагаем данными за период с 1 по 7 число августа 2019 года, количество событий 171321, количество уникальных пользоватлей 7173, приступим к анализу."
   ]
  },
  {
   "cell_type": "markdown",
   "id": "1c795934-ae20-4705-be48-3c8a90a5f5e2",
   "metadata": {},
   "source": [
    "### Шаг 4. Изучим воронку событий"
   ]
  },
  {
   "cell_type": "markdown",
   "id": "a2b6c2f8-a5c7-4084-859f-469d394cb4dd",
   "metadata": {},
   "source": [
    "Проверим, какие события есть в логах, как часто они встречаются. Отсортируем события по частоте"
   ]
  },
  {
   "cell_type": "code",
   "execution_count": 79,
   "id": "06ee82fb-69f3-42ef-879e-13634af3973d",
   "metadata": {},
   "outputs": [
    {
     "data": {
      "text/html": [
       "<div>\n",
       "<style scoped>\n",
       "    .dataframe tbody tr th:only-of-type {\n",
       "        vertical-align: middle;\n",
       "    }\n",
       "\n",
       "    .dataframe tbody tr th {\n",
       "        vertical-align: top;\n",
       "    }\n",
       "\n",
       "    .dataframe thead th {\n",
       "        text-align: right;\n",
       "    }\n",
       "</style>\n",
       "<table border=\"1\" class=\"dataframe\">\n",
       "  <thead>\n",
       "    <tr style=\"text-align: right;\">\n",
       "      <th></th>\n",
       "      <th>user_id</th>\n",
       "    </tr>\n",
       "    <tr>\n",
       "      <th>event_name</th>\n",
       "      <th></th>\n",
       "    </tr>\n",
       "  </thead>\n",
       "  <tbody>\n",
       "    <tr>\n",
       "      <th>mainscreenappear</th>\n",
       "      <td>99416</td>\n",
       "    </tr>\n",
       "    <tr>\n",
       "      <th>offersscreenappear</th>\n",
       "      <td>32187</td>\n",
       "    </tr>\n",
       "    <tr>\n",
       "      <th>cartscreenappear</th>\n",
       "      <td>22124</td>\n",
       "    </tr>\n",
       "    <tr>\n",
       "      <th>paymentscreensuccessful</th>\n",
       "      <td>16667</td>\n",
       "    </tr>\n",
       "    <tr>\n",
       "      <th>tutorial</th>\n",
       "      <td>927</td>\n",
       "    </tr>\n",
       "  </tbody>\n",
       "</table>\n",
       "</div>"
      ],
      "text/plain": [
       "                         user_id\n",
       "event_name                      \n",
       "mainscreenappear           99416\n",
       "offersscreenappear         32187\n",
       "cartscreenappear           22124\n",
       "paymentscreensuccessful    16667\n",
       "tutorial                     927"
      ]
     },
     "execution_count": 79,
     "metadata": {},
     "output_type": "execute_result"
    }
   ],
   "source": [
    "(log_f.groupby('event_name')\n",
    "      .agg({'user_id':'count'})\n",
    "      .sort_values(by='user_id', ascending=False))"
   ]
  },
  {
   "cell_type": "markdown",
   "id": "4a1155c6-4360-44db-9212-4caab1f0a028",
   "metadata": {},
   "source": [
    "- **mainscreenappear**\t- появление главного экрана\n",
    "- **offersscreenappear**- появление предложения  на экране\n",
    "- **cartscreenappear** - появление экрана корзины\n",
    "- **paymentscreensuccessful** - появление успешеного платежного экрана \n",
    "- **tutorial** - руководство"
   ]
  },
  {
   "cell_type": "markdown",
   "id": "6f8077f4-d15f-4a2d-952a-0cac56bbef95",
   "metadata": {},
   "source": [
    "Посчитаем пользователей, которые хоть раз совершали каждое из событий"
   ]
  },
  {
   "cell_type": "code",
   "execution_count": 80,
   "id": "097c675d-04a7-4ce3-908d-38974af0c556",
   "metadata": {},
   "outputs": [
    {
     "data": {
      "text/html": [
       "<div>\n",
       "<style scoped>\n",
       "    .dataframe tbody tr th:only-of-type {\n",
       "        vertical-align: middle;\n",
       "    }\n",
       "\n",
       "    .dataframe tbody tr th {\n",
       "        vertical-align: top;\n",
       "    }\n",
       "\n",
       "    .dataframe thead th {\n",
       "        text-align: right;\n",
       "    }\n",
       "</style>\n",
       "<table border=\"1\" class=\"dataframe\">\n",
       "  <thead>\n",
       "    <tr style=\"text-align: right;\">\n",
       "      <th></th>\n",
       "      <th>user_id</th>\n",
       "    </tr>\n",
       "    <tr>\n",
       "      <th>event_name</th>\n",
       "      <th></th>\n",
       "    </tr>\n",
       "  </thead>\n",
       "  <tbody>\n",
       "    <tr>\n",
       "      <th>mainscreenappear</th>\n",
       "      <td>7063</td>\n",
       "    </tr>\n",
       "    <tr>\n",
       "      <th>offersscreenappear</th>\n",
       "      <td>4245</td>\n",
       "    </tr>\n",
       "    <tr>\n",
       "      <th>cartscreenappear</th>\n",
       "      <td>3397</td>\n",
       "    </tr>\n",
       "    <tr>\n",
       "      <th>paymentscreensuccessful</th>\n",
       "      <td>3205</td>\n",
       "    </tr>\n",
       "    <tr>\n",
       "      <th>tutorial</th>\n",
       "      <td>776</td>\n",
       "    </tr>\n",
       "  </tbody>\n",
       "</table>\n",
       "</div>"
      ],
      "text/plain": [
       "                         user_id\n",
       "event_name                      \n",
       "mainscreenappear            7063\n",
       "offersscreenappear          4245\n",
       "cartscreenappear            3397\n",
       "paymentscreensuccessful     3205\n",
       "tutorial                     776"
      ]
     },
     "execution_count": 80,
     "metadata": {},
     "output_type": "execute_result"
    }
   ],
   "source": [
    "userGroup = (log_f.groupby('event_name')\n",
    "                  .agg({'user_id':'nunique'})\n",
    "                  .sort_values(by='user_id', ascending=False))\n",
    "\n",
    "userGroup"
   ]
  },
  {
   "cell_type": "markdown",
   "id": "31013cda-2d9d-4ca0-a02e-b32b9f17a643",
   "metadata": {},
   "source": [
    "Посчитаем долю пользователей, которые хоть раз совершали событие"
   ]
  },
  {
   "cell_type": "code",
   "execution_count": 81,
   "id": "091021b4-c3b0-4998-b175-adb83fa2ed18",
   "metadata": {},
   "outputs": [
    {
     "data": {
      "text/html": [
       "<div>\n",
       "<style scoped>\n",
       "    .dataframe tbody tr th:only-of-type {\n",
       "        vertical-align: middle;\n",
       "    }\n",
       "\n",
       "    .dataframe tbody tr th {\n",
       "        vertical-align: top;\n",
       "    }\n",
       "\n",
       "    .dataframe thead th {\n",
       "        text-align: right;\n",
       "    }\n",
       "</style>\n",
       "<table border=\"1\" class=\"dataframe\">\n",
       "  <thead>\n",
       "    <tr style=\"text-align: right;\">\n",
       "      <th></th>\n",
       "      <th>user_id</th>\n",
       "      <th>percent_%</th>\n",
       "    </tr>\n",
       "    <tr>\n",
       "      <th>event_name</th>\n",
       "      <th></th>\n",
       "      <th></th>\n",
       "    </tr>\n",
       "  </thead>\n",
       "  <tbody>\n",
       "    <tr>\n",
       "      <th>mainscreenappear</th>\n",
       "      <td>7063</td>\n",
       "      <td>98.47</td>\n",
       "    </tr>\n",
       "    <tr>\n",
       "      <th>offersscreenappear</th>\n",
       "      <td>4245</td>\n",
       "      <td>59.18</td>\n",
       "    </tr>\n",
       "    <tr>\n",
       "      <th>cartscreenappear</th>\n",
       "      <td>3397</td>\n",
       "      <td>47.36</td>\n",
       "    </tr>\n",
       "    <tr>\n",
       "      <th>paymentscreensuccessful</th>\n",
       "      <td>3205</td>\n",
       "      <td>44.68</td>\n",
       "    </tr>\n",
       "    <tr>\n",
       "      <th>tutorial</th>\n",
       "      <td>776</td>\n",
       "      <td>10.82</td>\n",
       "    </tr>\n",
       "  </tbody>\n",
       "</table>\n",
       "</div>"
      ],
      "text/plain": [
       "                         user_id  percent_%\n",
       "event_name                                 \n",
       "mainscreenappear            7063      98.47\n",
       "offersscreenappear          4245      59.18\n",
       "cartscreenappear            3397      47.36\n",
       "paymentscreensuccessful     3205      44.68\n",
       "tutorial                     776      10.82"
      ]
     },
     "execution_count": 81,
     "metadata": {},
     "output_type": "execute_result"
    }
   ],
   "source": [
    "userGroup['percent_%'] = round((userGroup['user_id'] / log_f['user_id'].nunique()*100),2) \n",
    "\n",
    "userGroup"
   ]
  },
  {
   "cell_type": "markdown",
   "id": "632ca4a7-77d6-4ad8-bc6d-63f196f90aea",
   "metadata": {},
   "source": [
    "Предположим, в каком порядке происходят события :\n",
    "- появление главного экрана\n",
    "- появление предложения\n",
    "- добавление товара в корзину\n",
    "- появление успешного платежа\n",
    "- руководство\n",
    "\n",
    "Скорее всего событие **руководство** является дополнительным событием при необходимости, можем не учитывать его для определения перехода по воронке"
   ]
  },
  {
   "cell_type": "code",
   "execution_count": 82,
   "id": "45a995fb-f1dd-4e68-b000-5f710af9d3bb",
   "metadata": {},
   "outputs": [
    {
     "data": {
      "text/html": [
       "<div>\n",
       "<style scoped>\n",
       "    .dataframe tbody tr th:only-of-type {\n",
       "        vertical-align: middle;\n",
       "    }\n",
       "\n",
       "    .dataframe tbody tr th {\n",
       "        vertical-align: top;\n",
       "    }\n",
       "\n",
       "    .dataframe thead th {\n",
       "        text-align: right;\n",
       "    }\n",
       "</style>\n",
       "<table border=\"1\" class=\"dataframe\">\n",
       "  <thead>\n",
       "    <tr style=\"text-align: right;\">\n",
       "      <th></th>\n",
       "      <th>user_id</th>\n",
       "      <th>percent_%</th>\n",
       "    </tr>\n",
       "    <tr>\n",
       "      <th>event_name</th>\n",
       "      <th></th>\n",
       "      <th></th>\n",
       "    </tr>\n",
       "  </thead>\n",
       "  <tbody>\n",
       "    <tr>\n",
       "      <th>mainscreenappear</th>\n",
       "      <td>7063</td>\n",
       "      <td>98.47</td>\n",
       "    </tr>\n",
       "    <tr>\n",
       "      <th>offersscreenappear</th>\n",
       "      <td>4245</td>\n",
       "      <td>59.18</td>\n",
       "    </tr>\n",
       "    <tr>\n",
       "      <th>cartscreenappear</th>\n",
       "      <td>3397</td>\n",
       "      <td>47.36</td>\n",
       "    </tr>\n",
       "    <tr>\n",
       "      <th>paymentscreensuccessful</th>\n",
       "      <td>3205</td>\n",
       "      <td>44.68</td>\n",
       "    </tr>\n",
       "  </tbody>\n",
       "</table>\n",
       "</div>"
      ],
      "text/plain": [
       "                         user_id  percent_%\n",
       "event_name                                 \n",
       "mainscreenappear            7063      98.47\n",
       "offersscreenappear          4245      59.18\n",
       "cartscreenappear            3397      47.36\n",
       "paymentscreensuccessful     3205      44.68"
      ]
     },
     "execution_count": 82,
     "metadata": {},
     "output_type": "execute_result"
    }
   ],
   "source": [
    "userGroup = userGroup.head(4)\n",
    "userGroup"
   ]
  },
  {
   "cell_type": "markdown",
   "id": "b162e000-e7dc-4fdb-851f-04662f7246bf",
   "metadata": {},
   "source": [
    "Построим воронку процента перехода пользователей по всей воронке"
   ]
  },
  {
   "cell_type": "code",
   "execution_count": 83,
   "id": "89c7cb81-31ee-4a37-86f1-0d154548a041",
   "metadata": {},
   "outputs": [
    {
     "data": {
      "application/vnd.plotly.v1+json": {
       "config": {
        "plotlyServerURL": "https://plot.ly"
       },
       "data": [
        {
         "hovertemplate": "percent_%=%{x}<br>event_name=%{y}<extra></extra>",
         "legendgroup": "",
         "marker": {
          "color": "#636efa"
         },
         "name": "",
         "orientation": "h",
         "showlegend": false,
         "type": "funnel",
         "x": [
          98.47,
          59.18,
          47.36,
          44.68
         ],
         "xaxis": "x",
         "y": [
          "mainscreenappear",
          "offersscreenappear",
          "cartscreenappear",
          "paymentscreensuccessful"
         ],
         "yaxis": "y"
        }
       ],
       "layout": {
        "autosize": true,
        "legend": {
         "tracegroupgap": 0
        },
        "margin": {
         "t": 60
        },
        "template": {
         "data": {
          "bar": [
           {
            "error_x": {
             "color": "#2a3f5f"
            },
            "error_y": {
             "color": "#2a3f5f"
            },
            "marker": {
             "line": {
              "color": "#E5ECF6",
              "width": 0.5
             },
             "pattern": {
              "fillmode": "overlay",
              "size": 10,
              "solidity": 0.2
             }
            },
            "type": "bar"
           }
          ],
          "barpolar": [
           {
            "marker": {
             "line": {
              "color": "#E5ECF6",
              "width": 0.5
             },
             "pattern": {
              "fillmode": "overlay",
              "size": 10,
              "solidity": 0.2
             }
            },
            "type": "barpolar"
           }
          ],
          "carpet": [
           {
            "aaxis": {
             "endlinecolor": "#2a3f5f",
             "gridcolor": "white",
             "linecolor": "white",
             "minorgridcolor": "white",
             "startlinecolor": "#2a3f5f"
            },
            "baxis": {
             "endlinecolor": "#2a3f5f",
             "gridcolor": "white",
             "linecolor": "white",
             "minorgridcolor": "white",
             "startlinecolor": "#2a3f5f"
            },
            "type": "carpet"
           }
          ],
          "choropleth": [
           {
            "colorbar": {
             "outlinewidth": 0,
             "ticks": ""
            },
            "type": "choropleth"
           }
          ],
          "contour": [
           {
            "colorbar": {
             "outlinewidth": 0,
             "ticks": ""
            },
            "colorscale": [
             [
              0,
              "#0d0887"
             ],
             [
              0.1111111111111111,
              "#46039f"
             ],
             [
              0.2222222222222222,
              "#7201a8"
             ],
             [
              0.3333333333333333,
              "#9c179e"
             ],
             [
              0.4444444444444444,
              "#bd3786"
             ],
             [
              0.5555555555555556,
              "#d8576b"
             ],
             [
              0.6666666666666666,
              "#ed7953"
             ],
             [
              0.7777777777777778,
              "#fb9f3a"
             ],
             [
              0.8888888888888888,
              "#fdca26"
             ],
             [
              1,
              "#f0f921"
             ]
            ],
            "type": "contour"
           }
          ],
          "contourcarpet": [
           {
            "colorbar": {
             "outlinewidth": 0,
             "ticks": ""
            },
            "type": "contourcarpet"
           }
          ],
          "heatmap": [
           {
            "colorbar": {
             "outlinewidth": 0,
             "ticks": ""
            },
            "colorscale": [
             [
              0,
              "#0d0887"
             ],
             [
              0.1111111111111111,
              "#46039f"
             ],
             [
              0.2222222222222222,
              "#7201a8"
             ],
             [
              0.3333333333333333,
              "#9c179e"
             ],
             [
              0.4444444444444444,
              "#bd3786"
             ],
             [
              0.5555555555555556,
              "#d8576b"
             ],
             [
              0.6666666666666666,
              "#ed7953"
             ],
             [
              0.7777777777777778,
              "#fb9f3a"
             ],
             [
              0.8888888888888888,
              "#fdca26"
             ],
             [
              1,
              "#f0f921"
             ]
            ],
            "type": "heatmap"
           }
          ],
          "heatmapgl": [
           {
            "colorbar": {
             "outlinewidth": 0,
             "ticks": ""
            },
            "colorscale": [
             [
              0,
              "#0d0887"
             ],
             [
              0.1111111111111111,
              "#46039f"
             ],
             [
              0.2222222222222222,
              "#7201a8"
             ],
             [
              0.3333333333333333,
              "#9c179e"
             ],
             [
              0.4444444444444444,
              "#bd3786"
             ],
             [
              0.5555555555555556,
              "#d8576b"
             ],
             [
              0.6666666666666666,
              "#ed7953"
             ],
             [
              0.7777777777777778,
              "#fb9f3a"
             ],
             [
              0.8888888888888888,
              "#fdca26"
             ],
             [
              1,
              "#f0f921"
             ]
            ],
            "type": "heatmapgl"
           }
          ],
          "histogram": [
           {
            "marker": {
             "pattern": {
              "fillmode": "overlay",
              "size": 10,
              "solidity": 0.2
             }
            },
            "type": "histogram"
           }
          ],
          "histogram2d": [
           {
            "colorbar": {
             "outlinewidth": 0,
             "ticks": ""
            },
            "colorscale": [
             [
              0,
              "#0d0887"
             ],
             [
              0.1111111111111111,
              "#46039f"
             ],
             [
              0.2222222222222222,
              "#7201a8"
             ],
             [
              0.3333333333333333,
              "#9c179e"
             ],
             [
              0.4444444444444444,
              "#bd3786"
             ],
             [
              0.5555555555555556,
              "#d8576b"
             ],
             [
              0.6666666666666666,
              "#ed7953"
             ],
             [
              0.7777777777777778,
              "#fb9f3a"
             ],
             [
              0.8888888888888888,
              "#fdca26"
             ],
             [
              1,
              "#f0f921"
             ]
            ],
            "type": "histogram2d"
           }
          ],
          "histogram2dcontour": [
           {
            "colorbar": {
             "outlinewidth": 0,
             "ticks": ""
            },
            "colorscale": [
             [
              0,
              "#0d0887"
             ],
             [
              0.1111111111111111,
              "#46039f"
             ],
             [
              0.2222222222222222,
              "#7201a8"
             ],
             [
              0.3333333333333333,
              "#9c179e"
             ],
             [
              0.4444444444444444,
              "#bd3786"
             ],
             [
              0.5555555555555556,
              "#d8576b"
             ],
             [
              0.6666666666666666,
              "#ed7953"
             ],
             [
              0.7777777777777778,
              "#fb9f3a"
             ],
             [
              0.8888888888888888,
              "#fdca26"
             ],
             [
              1,
              "#f0f921"
             ]
            ],
            "type": "histogram2dcontour"
           }
          ],
          "mesh3d": [
           {
            "colorbar": {
             "outlinewidth": 0,
             "ticks": ""
            },
            "type": "mesh3d"
           }
          ],
          "parcoords": [
           {
            "line": {
             "colorbar": {
              "outlinewidth": 0,
              "ticks": ""
             }
            },
            "type": "parcoords"
           }
          ],
          "pie": [
           {
            "automargin": true,
            "type": "pie"
           }
          ],
          "scatter": [
           {
            "fillpattern": {
             "fillmode": "overlay",
             "size": 10,
             "solidity": 0.2
            },
            "type": "scatter"
           }
          ],
          "scatter3d": [
           {
            "line": {
             "colorbar": {
              "outlinewidth": 0,
              "ticks": ""
             }
            },
            "marker": {
             "colorbar": {
              "outlinewidth": 0,
              "ticks": ""
             }
            },
            "type": "scatter3d"
           }
          ],
          "scattercarpet": [
           {
            "marker": {
             "colorbar": {
              "outlinewidth": 0,
              "ticks": ""
             }
            },
            "type": "scattercarpet"
           }
          ],
          "scattergeo": [
           {
            "marker": {
             "colorbar": {
              "outlinewidth": 0,
              "ticks": ""
             }
            },
            "type": "scattergeo"
           }
          ],
          "scattergl": [
           {
            "marker": {
             "colorbar": {
              "outlinewidth": 0,
              "ticks": ""
             }
            },
            "type": "scattergl"
           }
          ],
          "scattermapbox": [
           {
            "marker": {
             "colorbar": {
              "outlinewidth": 0,
              "ticks": ""
             }
            },
            "type": "scattermapbox"
           }
          ],
          "scatterpolar": [
           {
            "marker": {
             "colorbar": {
              "outlinewidth": 0,
              "ticks": ""
             }
            },
            "type": "scatterpolar"
           }
          ],
          "scatterpolargl": [
           {
            "marker": {
             "colorbar": {
              "outlinewidth": 0,
              "ticks": ""
             }
            },
            "type": "scatterpolargl"
           }
          ],
          "scatterternary": [
           {
            "marker": {
             "colorbar": {
              "outlinewidth": 0,
              "ticks": ""
             }
            },
            "type": "scatterternary"
           }
          ],
          "surface": [
           {
            "colorbar": {
             "outlinewidth": 0,
             "ticks": ""
            },
            "colorscale": [
             [
              0,
              "#0d0887"
             ],
             [
              0.1111111111111111,
              "#46039f"
             ],
             [
              0.2222222222222222,
              "#7201a8"
             ],
             [
              0.3333333333333333,
              "#9c179e"
             ],
             [
              0.4444444444444444,
              "#bd3786"
             ],
             [
              0.5555555555555556,
              "#d8576b"
             ],
             [
              0.6666666666666666,
              "#ed7953"
             ],
             [
              0.7777777777777778,
              "#fb9f3a"
             ],
             [
              0.8888888888888888,
              "#fdca26"
             ],
             [
              1,
              "#f0f921"
             ]
            ],
            "type": "surface"
           }
          ],
          "table": [
           {
            "cells": {
             "fill": {
              "color": "#EBF0F8"
             },
             "line": {
              "color": "white"
             }
            },
            "header": {
             "fill": {
              "color": "#C8D4E3"
             },
             "line": {
              "color": "white"
             }
            },
            "type": "table"
           }
          ]
         },
         "layout": {
          "annotationdefaults": {
           "arrowcolor": "#2a3f5f",
           "arrowhead": 0,
           "arrowwidth": 1
          },
          "autotypenumbers": "strict",
          "coloraxis": {
           "colorbar": {
            "outlinewidth": 0,
            "ticks": ""
           }
          },
          "colorscale": {
           "diverging": [
            [
             0,
             "#8e0152"
            ],
            [
             0.1,
             "#c51b7d"
            ],
            [
             0.2,
             "#de77ae"
            ],
            [
             0.3,
             "#f1b6da"
            ],
            [
             0.4,
             "#fde0ef"
            ],
            [
             0.5,
             "#f7f7f7"
            ],
            [
             0.6,
             "#e6f5d0"
            ],
            [
             0.7,
             "#b8e186"
            ],
            [
             0.8,
             "#7fbc41"
            ],
            [
             0.9,
             "#4d9221"
            ],
            [
             1,
             "#276419"
            ]
           ],
           "sequential": [
            [
             0,
             "#0d0887"
            ],
            [
             0.1111111111111111,
             "#46039f"
            ],
            [
             0.2222222222222222,
             "#7201a8"
            ],
            [
             0.3333333333333333,
             "#9c179e"
            ],
            [
             0.4444444444444444,
             "#bd3786"
            ],
            [
             0.5555555555555556,
             "#d8576b"
            ],
            [
             0.6666666666666666,
             "#ed7953"
            ],
            [
             0.7777777777777778,
             "#fb9f3a"
            ],
            [
             0.8888888888888888,
             "#fdca26"
            ],
            [
             1,
             "#f0f921"
            ]
           ],
           "sequentialminus": [
            [
             0,
             "#0d0887"
            ],
            [
             0.1111111111111111,
             "#46039f"
            ],
            [
             0.2222222222222222,
             "#7201a8"
            ],
            [
             0.3333333333333333,
             "#9c179e"
            ],
            [
             0.4444444444444444,
             "#bd3786"
            ],
            [
             0.5555555555555556,
             "#d8576b"
            ],
            [
             0.6666666666666666,
             "#ed7953"
            ],
            [
             0.7777777777777778,
             "#fb9f3a"
            ],
            [
             0.8888888888888888,
             "#fdca26"
            ],
            [
             1,
             "#f0f921"
            ]
           ]
          },
          "colorway": [
           "#636efa",
           "#EF553B",
           "#00cc96",
           "#ab63fa",
           "#FFA15A",
           "#19d3f3",
           "#FF6692",
           "#B6E880",
           "#FF97FF",
           "#FECB52"
          ],
          "font": {
           "color": "#2a3f5f"
          },
          "geo": {
           "bgcolor": "white",
           "lakecolor": "white",
           "landcolor": "#E5ECF6",
           "showlakes": true,
           "showland": true,
           "subunitcolor": "white"
          },
          "hoverlabel": {
           "align": "left"
          },
          "hovermode": "closest",
          "mapbox": {
           "style": "light"
          },
          "paper_bgcolor": "white",
          "plot_bgcolor": "#E5ECF6",
          "polar": {
           "angularaxis": {
            "gridcolor": "white",
            "linecolor": "white",
            "ticks": ""
           },
           "bgcolor": "#E5ECF6",
           "radialaxis": {
            "gridcolor": "white",
            "linecolor": "white",
            "ticks": ""
           }
          },
          "scene": {
           "xaxis": {
            "backgroundcolor": "#E5ECF6",
            "gridcolor": "white",
            "gridwidth": 2,
            "linecolor": "white",
            "showbackground": true,
            "ticks": "",
            "zerolinecolor": "white"
           },
           "yaxis": {
            "backgroundcolor": "#E5ECF6",
            "gridcolor": "white",
            "gridwidth": 2,
            "linecolor": "white",
            "showbackground": true,
            "ticks": "",
            "zerolinecolor": "white"
           },
           "zaxis": {
            "backgroundcolor": "#E5ECF6",
            "gridcolor": "white",
            "gridwidth": 2,
            "linecolor": "white",
            "showbackground": true,
            "ticks": "",
            "zerolinecolor": "white"
           }
          },
          "shapedefaults": {
           "line": {
            "color": "#2a3f5f"
           }
          },
          "ternary": {
           "aaxis": {
            "gridcolor": "white",
            "linecolor": "white",
            "ticks": ""
           },
           "baxis": {
            "gridcolor": "white",
            "linecolor": "white",
            "ticks": ""
           },
           "bgcolor": "#E5ECF6",
           "caxis": {
            "gridcolor": "white",
            "linecolor": "white",
            "ticks": ""
           }
          },
          "title": {
           "x": 0.05
          },
          "xaxis": {
           "automargin": true,
           "gridcolor": "white",
           "linecolor": "white",
           "ticks": "",
           "title": {
            "standoff": 15
           },
           "zerolinecolor": "white",
           "zerolinewidth": 2
          },
          "yaxis": {
           "automargin": true,
           "gridcolor": "white",
           "linecolor": "white",
           "ticks": "",
           "title": {
            "standoff": 15
           },
           "zerolinecolor": "white",
           "zerolinewidth": 2
          }
         }
        },
        "title": {
         "text": "Воронка c процентом перехода пользоватлей до последнего шага",
         "x": 0.5
        },
        "xaxis": {
         "anchor": "y",
         "autorange": true,
         "domain": [
          0,
          1
         ],
         "range": [
          -54.705555555555556,
          54.705555555555556
         ],
         "title": {
          "text": "percent_%"
         },
         "type": "linear"
        },
        "yaxis": {
         "anchor": "x",
         "autorange": true,
         "domain": [
          0,
          1
         ],
         "range": [
          3.5,
          -0.5
         ],
         "title": {
          "text": "event_name"
         },
         "type": "category"
        }
       }
      },
      "image/png": "[encoded data removed]",
      "text/html": [
       "<div>                            <div id=\"ebbd0d3f-aa58-432f-b0eb-20b91397f2b0\" class=\"plotly-graph-div\" style=\"height:525px; width:100%;\"></div>            <script type=\"text/javascript\">                require([\"plotly\"], function(Plotly) {                    window.PLOTLYENV=window.PLOTLYENV || {};                                    if (document.getElementById(\"ebbd0d3f-aa58-432f-b0eb-20b91397f2b0\")) {                    Plotly.newPlot(                        \"ebbd0d3f-aa58-432f-b0eb-20b91397f2b0\",                        [{\"hovertemplate\":\"percent_%=%{x}\\u003cbr\\u003eevent_name=%{y}\\u003cextra\\u003e\\u003c\\u002fextra\\u003e\",\"legendgroup\":\"\",\"marker\":{\"color\":\"#636efa\"},\"name\":\"\",\"orientation\":\"h\",\"showlegend\":false,\"x\":[98.47,59.18,47.36,44.68],\"xaxis\":\"x\",\"y\":[\"mainscreenappear\",\"offersscreenappear\",\"cartscreenappear\",\"paymentscreensuccessful\"],\"yaxis\":\"y\",\"type\":\"funnel\"}],                        {\"template\":{\"data\":{\"histogram2dcontour\":[{\"type\":\"histogram2dcontour\",\"colorbar\":{\"outlinewidth\":0,\"ticks\":\"\"},\"colorscale\":[[0.0,\"#0d0887\"],[0.1111111111111111,\"#46039f\"],[0.2222222222222222,\"#7201a8\"],[0.3333333333333333,\"#9c179e\"],[0.4444444444444444,\"#bd3786\"],[0.5555555555555556,\"#d8576b\"],[0.6666666666666666,\"#ed7953\"],[0.7777777777777778,\"#fb9f3a\"],[0.8888888888888888,\"#fdca26\"],[1.0,\"#f0f921\"]]}],\"choropleth\":[{\"type\":\"choropleth\",\"colorbar\":{\"outlinewidth\":0,\"ticks\":\"\"}}],\"histogram2d\":[{\"type\":\"histogram2d\",\"colorbar\":{\"outlinewidth\":0,\"ticks\":\"\"},\"colorscale\":[[0.0,\"#0d0887\"],[0.1111111111111111,\"#46039f\"],[0.2222222222222222,\"#7201a8\"],[0.3333333333333333,\"#9c179e\"],[0.4444444444444444,\"#bd3786\"],[0.5555555555555556,\"#d8576b\"],[0.6666666666666666,\"#ed7953\"],[0.7777777777777778,\"#fb9f3a\"],[0.8888888888888888,\"#fdca26\"],[1.0,\"#f0f921\"]]}],\"heatmap\":[{\"type\":\"heatmap\",\"colorbar\":{\"outlinewidth\":0,\"ticks\":\"\"},\"colorscale\":[[0.0,\"#0d0887\"],[0.1111111111111111,\"#46039f\"],[0.2222222222222222,\"#7201a8\"],[0.3333333333333333,\"#9c179e\"],[0.4444444444444444,\"#bd3786\"],[0.5555555555555556,\"#d8576b\"],[0.6666666666666666,\"#ed7953\"],[0.7777777777777778,\"#fb9f3a\"],[0.8888888888888888,\"#fdca26\"],[1.0,\"#f0f921\"]]}],\"heatmapgl\":[{\"type\":\"heatmapgl\",\"colorbar\":{\"outlinewidth\":0,\"ticks\":\"\"},\"colorscale\":[[0.0,\"#0d0887\"],[0.1111111111111111,\"#46039f\"],[0.2222222222222222,\"#7201a8\"],[0.3333333333333333,\"#9c179e\"],[0.4444444444444444,\"#bd3786\"],[0.5555555555555556,\"#d8576b\"],[0.6666666666666666,\"#ed7953\"],[0.7777777777777778,\"#fb9f3a\"],[0.8888888888888888,\"#fdca26\"],[1.0,\"#f0f921\"]]}],\"contourcarpet\":[{\"type\":\"contourcarpet\",\"colorbar\":{\"outlinewidth\":0,\"ticks\":\"\"}}],\"contour\":[{\"type\":\"contour\",\"colorbar\":{\"outlinewidth\":0,\"ticks\":\"\"},\"colorscale\":[[0.0,\"#0d0887\"],[0.1111111111111111,\"#46039f\"],[0.2222222222222222,\"#7201a8\"],[0.3333333333333333,\"#9c179e\"],[0.4444444444444444,\"#bd3786\"],[0.5555555555555556,\"#d8576b\"],[0.6666666666666666,\"#ed7953\"],[0.7777777777777778,\"#fb9f3a\"],[0.8888888888888888,\"#fdca26\"],[1.0,\"#f0f921\"]]}],\"surface\":[{\"type\":\"surface\",\"colorbar\":{\"outlinewidth\":0,\"ticks\":\"\"},\"colorscale\":[[0.0,\"#0d0887\"],[0.1111111111111111,\"#46039f\"],[0.2222222222222222,\"#7201a8\"],[0.3333333333333333,\"#9c179e\"],[0.4444444444444444,\"#bd3786\"],[0.5555555555555556,\"#d8576b\"],[0.6666666666666666,\"#ed7953\"],[0.7777777777777778,\"#fb9f3a\"],[0.8888888888888888,\"#fdca26\"],[1.0,\"#f0f921\"]]}],\"mesh3d\":[{\"type\":\"mesh3d\",\"colorbar\":{\"outlinewidth\":0,\"ticks\":\"\"}}],\"scatter\":[{\"fillpattern\":{\"fillmode\":\"overlay\",\"size\":10,\"solidity\":0.2},\"type\":\"scatter\"}],\"parcoords\":[{\"type\":\"parcoords\",\"line\":{\"colorbar\":{\"outlinewidth\":0,\"ticks\":\"\"}}}],\"scatterpolargl\":[{\"type\":\"scatterpolargl\",\"marker\":{\"colorbar\":{\"outlinewidth\":0,\"ticks\":\"\"}}}],\"bar\":[{\"error_x\":{\"color\":\"#2a3f5f\"},\"error_y\":{\"color\":\"#2a3f5f\"},\"marker\":{\"line\":{\"color\":\"#E5ECF6\",\"width\":0.5},\"pattern\":{\"fillmode\":\"overlay\",\"size\":10,\"solidity\":0.2}},\"type\":\"bar\"}],\"scattergeo\":[{\"type\":\"scattergeo\",\"marker\":{\"colorbar\":{\"outlinewidth\":0,\"ticks\":\"\"}}}],\"scatterpolar\":[{\"type\":\"scatterpolar\",\"marker\":{\"colorbar\":{\"outlinewidth\":0,\"ticks\":\"\"}}}],\"histogram\":[{\"marker\":{\"pattern\":{\"fillmode\":\"overlay\",\"size\":10,\"solidity\":0.2}},\"type\":\"histogram\"}],\"scattergl\":[{\"type\":\"scattergl\",\"marker\":{\"colorbar\":{\"outlinewidth\":0,\"ticks\":\"\"}}}],\"scatter3d\":[{\"type\":\"scatter3d\",\"line\":{\"colorbar\":{\"outlinewidth\":0,\"ticks\":\"\"}},\"marker\":{\"colorbar\":{\"outlinewidth\":0,\"ticks\":\"\"}}}],\"scattermapbox\":[{\"type\":\"scattermapbox\",\"marker\":{\"colorbar\":{\"outlinewidth\":0,\"ticks\":\"\"}}}],\"scatterternary\":[{\"type\":\"scatterternary\",\"marker\":{\"colorbar\":{\"outlinewidth\":0,\"ticks\":\"\"}}}],\"scattercarpet\":[{\"type\":\"scattercarpet\",\"marker\":{\"colorbar\":{\"outlinewidth\":0,\"ticks\":\"\"}}}],\"carpet\":[{\"aaxis\":{\"endlinecolor\":\"#2a3f5f\",\"gridcolor\":\"white\",\"linecolor\":\"white\",\"minorgridcolor\":\"white\",\"startlinecolor\":\"#2a3f5f\"},\"baxis\":{\"endlinecolor\":\"#2a3f5f\",\"gridcolor\":\"white\",\"linecolor\":\"white\",\"minorgridcolor\":\"white\",\"startlinecolor\":\"#2a3f5f\"},\"type\":\"carpet\"}],\"table\":[{\"cells\":{\"fill\":{\"color\":\"#EBF0F8\"},\"line\":{\"color\":\"white\"}},\"header\":{\"fill\":{\"color\":\"#C8D4E3\"},\"line\":{\"color\":\"white\"}},\"type\":\"table\"}],\"barpolar\":[{\"marker\":{\"line\":{\"color\":\"#E5ECF6\",\"width\":0.5},\"pattern\":{\"fillmode\":\"overlay\",\"size\":10,\"solidity\":0.2}},\"type\":\"barpolar\"}],\"pie\":[{\"automargin\":true,\"type\":\"pie\"}]},\"layout\":{\"autotypenumbers\":\"strict\",\"colorway\":[\"#636efa\",\"#EF553B\",\"#00cc96\",\"#ab63fa\",\"#FFA15A\",\"#19d3f3\",\"#FF6692\",\"#B6E880\",\"#FF97FF\",\"#FECB52\"],\"font\":{\"color\":\"#2a3f5f\"},\"hovermode\":\"closest\",\"hoverlabel\":{\"align\":\"left\"},\"paper_bgcolor\":\"white\",\"plot_bgcolor\":\"#E5ECF6\",\"polar\":{\"bgcolor\":\"#E5ECF6\",\"angularaxis\":{\"gridcolor\":\"white\",\"linecolor\":\"white\",\"ticks\":\"\"},\"radialaxis\":{\"gridcolor\":\"white\",\"linecolor\":\"white\",\"ticks\":\"\"}},\"ternary\":{\"bgcolor\":\"#E5ECF6\",\"aaxis\":{\"gridcolor\":\"white\",\"linecolor\":\"white\",\"ticks\":\"\"},\"baxis\":{\"gridcolor\":\"white\",\"linecolor\":\"white\",\"ticks\":\"\"},\"caxis\":{\"gridcolor\":\"white\",\"linecolor\":\"white\",\"ticks\":\"\"}},\"coloraxis\":{\"colorbar\":{\"outlinewidth\":0,\"ticks\":\"\"}},\"colorscale\":{\"sequential\":[[0.0,\"#0d0887\"],[0.1111111111111111,\"#46039f\"],[0.2222222222222222,\"#7201a8\"],[0.3333333333333333,\"#9c179e\"],[0.4444444444444444,\"#bd3786\"],[0.5555555555555556,\"#d8576b\"],[0.6666666666666666,\"#ed7953\"],[0.7777777777777778,\"#fb9f3a\"],[0.8888888888888888,\"#fdca26\"],[1.0,\"#f0f921\"]],\"sequentialminus\":[[0.0,\"#0d0887\"],[0.1111111111111111,\"#46039f\"],[0.2222222222222222,\"#7201a8\"],[0.3333333333333333,\"#9c179e\"],[0.4444444444444444,\"#bd3786\"],[0.5555555555555556,\"#d8576b\"],[0.6666666666666666,\"#ed7953\"],[0.7777777777777778,\"#fb9f3a\"],[0.8888888888888888,\"#fdca26\"],[1.0,\"#f0f921\"]],\"diverging\":[[0,\"#8e0152\"],[0.1,\"#c51b7d\"],[0.2,\"#de77ae\"],[0.3,\"#f1b6da\"],[0.4,\"#fde0ef\"],[0.5,\"#f7f7f7\"],[0.6,\"#e6f5d0\"],[0.7,\"#b8e186\"],[0.8,\"#7fbc41\"],[0.9,\"#4d9221\"],[1,\"#276419\"]]},\"xaxis\":{\"gridcolor\":\"white\",\"linecolor\":\"white\",\"ticks\":\"\",\"title\":{\"standoff\":15},\"zerolinecolor\":\"white\",\"automargin\":true,\"zerolinewidth\":2},\"yaxis\":{\"gridcolor\":\"white\",\"linecolor\":\"white\",\"ticks\":\"\",\"title\":{\"standoff\":15},\"zerolinecolor\":\"white\",\"automargin\":true,\"zerolinewidth\":2},\"scene\":{\"xaxis\":{\"backgroundcolor\":\"#E5ECF6\",\"gridcolor\":\"white\",\"linecolor\":\"white\",\"showbackground\":true,\"ticks\":\"\",\"zerolinecolor\":\"white\",\"gridwidth\":2},\"yaxis\":{\"backgroundcolor\":\"#E5ECF6\",\"gridcolor\":\"white\",\"linecolor\":\"white\",\"showbackground\":true,\"ticks\":\"\",\"zerolinecolor\":\"white\",\"gridwidth\":2},\"zaxis\":{\"backgroundcolor\":\"#E5ECF6\",\"gridcolor\":\"white\",\"linecolor\":\"white\",\"showbackground\":true,\"ticks\":\"\",\"zerolinecolor\":\"white\",\"gridwidth\":2}},\"shapedefaults\":{\"line\":{\"color\":\"#2a3f5f\"}},\"annotationdefaults\":{\"arrowcolor\":\"#2a3f5f\",\"arrowhead\":0,\"arrowwidth\":1},\"geo\":{\"bgcolor\":\"white\",\"landcolor\":\"#E5ECF6\",\"subunitcolor\":\"white\",\"showland\":true,\"showlakes\":true,\"lakecolor\":\"white\"},\"title\":{\"x\":0.05},\"mapbox\":{\"style\":\"light\"}}},\"xaxis\":{\"anchor\":\"y\",\"domain\":[0.0,1.0],\"title\":{\"text\":\"percent_%\"}},\"yaxis\":{\"anchor\":\"x\",\"domain\":[0.0,1.0],\"title\":{\"text\":\"event_name\"}},\"legend\":{\"tracegroupgap\":0},\"margin\":{\"t\":60},\"title\":{\"x\":0.5,\"text\":\"\\u0412\\u043e\\u0440\\u043e\\u043d\\u043a\\u0430 c \\u043f\\u0440\\u043e\\u0446\\u0435\\u043d\\u0442\\u043e\\u043c \\u043f\\u0435\\u0440\\u0435\\u0445\\u043e\\u0434\\u0430 \\u043f\\u043e\\u043b\\u044c\\u0437\\u043e\\u0432\\u0430\\u0442\\u043b\\u0435\\u0439 \\u0434\\u043e \\u043f\\u043e\\u0441\\u043b\\u0435\\u0434\\u043d\\u0435\\u0433\\u043e \\u0448\\u0430\\u0433\\u0430\"}},                        {\"responsive\": true}                    ).then(function(){\n",
       "                            \n",
       "var gd = document.getElementById('ebbd0d3f-aa58-432f-b0eb-20b91397f2b0');\n",
       "var x = new MutationObserver(function (mutations, observer) {{\n",
       "        var display = window.getComputedStyle(gd).display;\n",
       "        if (!display || display === 'none') {{\n",
       "            console.log([gd, 'removed!']);\n",
       "            Plotly.purge(gd);\n",
       "            observer.disconnect();\n",
       "        }}\n",
       "}});\n",
       "\n",
       "// Listen for the removal of the full notebook cells\n",
       "var notebookContainer = gd.closest('#notebook-container');\n",
       "if (notebookContainer) {{\n",
       "    x.observe(notebookContainer, {childList: true});\n",
       "}}\n",
       "\n",
       "// Listen for the clearing of the current output cell\n",
       "var outputEl = gd.closest('.output');\n",
       "if (outputEl) {{\n",
       "    x.observe(outputEl, {childList: true});\n",
       "}}\n",
       "\n",
       "                        })                };                });            </script>        </div>"
      ]
     },
     "metadata": {},
     "output_type": "display_data"
    }
   ],
   "source": [
    "test_gr = userGroup.reset_index()\n",
    "fig = px.funnel(test_gr,\n",
    "                x='percent_%', \n",
    "                y='event_name')\n",
    "fig.update_layout(title={'x': 0.5, 'text': 'Воронка c процентом перехода пользоватлей до последнего шага'})\n",
    "fig.show()"
   ]
  },
  {
   "cell_type": "markdown",
   "id": "5f426e99-01fe-47ec-be20-c4f964859ced",
   "metadata": {},
   "source": [
    "Воронка показывает, что \n",
    "- 59.18% пользователей переходит от шага **mainscreenappear** к **offersscreenappear**\n",
    "- 47.36% пользователей переходит от шага **offersscreenappear** к **cartscreenappear**\n",
    "- 44.68% пользователей переходит от шага **cartscreenappear** к **paymentscreensuccessful**"
   ]
  },
  {
   "cell_type": "markdown",
   "id": "70449c85-d82c-47f4-a594-38bc16c72ec2",
   "metadata": {},
   "source": [
    "Посчитаем, какая доля пользователей проходит на следующий шаг воронки (от числа пользователей на предыдущем)"
   ]
  },
  {
   "cell_type": "code",
   "execution_count": 84,
   "id": "e3978175-7236-4c57-bc11-233349d3b144",
   "metadata": {},
   "outputs": [
    {
     "data": {
      "text/html": [
       "<div>\n",
       "<style scoped>\n",
       "    .dataframe tbody tr th:only-of-type {\n",
       "        vertical-align: middle;\n",
       "    }\n",
       "\n",
       "    .dataframe tbody tr th {\n",
       "        vertical-align: top;\n",
       "    }\n",
       "\n",
       "    .dataframe thead th {\n",
       "        text-align: right;\n",
       "    }\n",
       "</style>\n",
       "<table border=\"1\" class=\"dataframe\">\n",
       "  <thead>\n",
       "    <tr style=\"text-align: right;\">\n",
       "      <th></th>\n",
       "      <th>user_id</th>\n",
       "      <th>percent_%</th>\n",
       "      <th>next_step</th>\n",
       "    </tr>\n",
       "    <tr>\n",
       "      <th>event_name</th>\n",
       "      <th></th>\n",
       "      <th></th>\n",
       "      <th></th>\n",
       "    </tr>\n",
       "  </thead>\n",
       "  <tbody>\n",
       "    <tr>\n",
       "      <th>mainscreenappear</th>\n",
       "      <td>7063</td>\n",
       "      <td>98.47</td>\n",
       "      <td>NaN</td>\n",
       "    </tr>\n",
       "    <tr>\n",
       "      <th>offersscreenappear</th>\n",
       "      <td>4245</td>\n",
       "      <td>59.18</td>\n",
       "      <td>0.601</td>\n",
       "    </tr>\n",
       "    <tr>\n",
       "      <th>cartscreenappear</th>\n",
       "      <td>3397</td>\n",
       "      <td>47.36</td>\n",
       "      <td>0.800</td>\n",
       "    </tr>\n",
       "    <tr>\n",
       "      <th>paymentscreensuccessful</th>\n",
       "      <td>3205</td>\n",
       "      <td>44.68</td>\n",
       "      <td>0.943</td>\n",
       "    </tr>\n",
       "  </tbody>\n",
       "</table>\n",
       "</div>"
      ],
      "text/plain": [
       "                         user_id  percent_%  next_step\n",
       "event_name                                            \n",
       "mainscreenappear            7063      98.47        NaN\n",
       "offersscreenappear          4245      59.18      0.601\n",
       "cartscreenappear            3397      47.36      0.800\n",
       "paymentscreensuccessful     3205      44.68      0.943"
      ]
     },
     "execution_count": 84,
     "metadata": {},
     "output_type": "execute_result"
    }
   ],
   "source": [
    "userGroup['next_step'] = round((userGroup['user_id'] / userGroup['user_id'].shift(1)),3)\n",
    "userGroup"
   ]
  },
  {
   "cell_type": "code",
   "execution_count": 85,
   "id": "91dba02b-957b-4275-acbe-c93fcadc1282",
   "metadata": {},
   "outputs": [
    {
     "data": {
      "application/vnd.plotly.v1+json": {
       "config": {
        "plotlyServerURL": "https://plot.ly"
       },
       "data": [
        {
         "name": "percent_%",
         "textinfo": "value+percent initial",
         "textposition": "outside",
         "type": "funnel",
         "x": [
          98.47,
          59.18,
          47.36,
          44.68
         ],
         "y": [
          "mainscreenappear",
          "offersscreenappear",
          "cartscreenappear",
          "paymentscreensuccessful"
         ]
        },
        {
         "name": "count_user",
         "orientation": "h",
         "textinfo": "value+percent previous",
         "textposition": "inside",
         "type": "funnel",
         "x": [
          7063,
          4245,
          3397,
          3205
         ],
         "y": [
          "mainscreenappear",
          "offersscreenappear",
          "cartscreenappear",
          "paymentscreensuccessful"
         ]
        }
       ],
       "layout": {
        "autosize": true,
        "template": {
         "data": {
          "bar": [
           {
            "error_x": {
             "color": "#2a3f5f"
            },
            "error_y": {
             "color": "#2a3f5f"
            },
            "marker": {
             "line": {
              "color": "#E5ECF6",
              "width": 0.5
             },
             "pattern": {
              "fillmode": "overlay",
              "size": 10,
              "solidity": 0.2
             }
            },
            "type": "bar"
           }
          ],
          "barpolar": [
           {
            "marker": {
             "line": {
              "color": "#E5ECF6",
              "width": 0.5
             },
             "pattern": {
              "fillmode": "overlay",
              "size": 10,
              "solidity": 0.2
             }
            },
            "type": "barpolar"
           }
          ],
          "carpet": [
           {
            "aaxis": {
             "endlinecolor": "#2a3f5f",
             "gridcolor": "white",
             "linecolor": "white",
             "minorgridcolor": "white",
             "startlinecolor": "#2a3f5f"
            },
            "baxis": {
             "endlinecolor": "#2a3f5f",
             "gridcolor": "white",
             "linecolor": "white",
             "minorgridcolor": "white",
             "startlinecolor": "#2a3f5f"
            },
            "type": "carpet"
           }
          ],
          "choropleth": [
           {
            "colorbar": {
             "outlinewidth": 0,
             "ticks": ""
            },
            "type": "choropleth"
           }
          ],
          "contour": [
           {
            "colorbar": {
             "outlinewidth": 0,
             "ticks": ""
            },
            "colorscale": [
             [
              0,
              "#0d0887"
             ],
             [
              0.1111111111111111,
              "#46039f"
             ],
             [
              0.2222222222222222,
              "#7201a8"
             ],
             [
              0.3333333333333333,
              "#9c179e"
             ],
             [
              0.4444444444444444,
              "#bd3786"
             ],
             [
              0.5555555555555556,
              "#d8576b"
             ],
             [
              0.6666666666666666,
              "#ed7953"
             ],
             [
              0.7777777777777778,
              "#fb9f3a"
             ],
             [
              0.8888888888888888,
              "#fdca26"
             ],
             [
              1,
              "#f0f921"
             ]
            ],
            "type": "contour"
           }
          ],
          "contourcarpet": [
           {
            "colorbar": {
             "outlinewidth": 0,
             "ticks": ""
            },
            "type": "contourcarpet"
           }
          ],
          "heatmap": [
           {
            "colorbar": {
             "outlinewidth": 0,
             "ticks": ""
            },
            "colorscale": [
             [
              0,
              "#0d0887"
             ],
             [
              0.1111111111111111,
              "#46039f"
             ],
             [
              0.2222222222222222,
              "#7201a8"
             ],
             [
              0.3333333333333333,
              "#9c179e"
             ],
             [
              0.4444444444444444,
              "#bd3786"
             ],
             [
              0.5555555555555556,
              "#d8576b"
             ],
             [
              0.6666666666666666,
              "#ed7953"
             ],
             [
              0.7777777777777778,
              "#fb9f3a"
             ],
             [
              0.8888888888888888,
              "#fdca26"
             ],
             [
              1,
              "#f0f921"
             ]
            ],
            "type": "heatmap"
           }
          ],
          "heatmapgl": [
           {
            "colorbar": {
             "outlinewidth": 0,
             "ticks": ""
            },
            "colorscale": [
             [
              0,
              "#0d0887"
             ],
             [
              0.1111111111111111,
              "#46039f"
             ],
             [
              0.2222222222222222,
              "#7201a8"
             ],
             [
              0.3333333333333333,
              "#9c179e"
             ],
             [
              0.4444444444444444,
              "#bd3786"
             ],
             [
              0.5555555555555556,
              "#d8576b"
             ],
             [
              0.6666666666666666,
              "#ed7953"
             ],
             [
              0.7777777777777778,
              "#fb9f3a"
             ],
             [
              0.8888888888888888,
              "#fdca26"
             ],
             [
              1,
              "#f0f921"
             ]
            ],
            "type": "heatmapgl"
           }
          ],
          "histogram": [
           {
            "marker": {
             "pattern": {
              "fillmode": "overlay",
              "size": 10,
              "solidity": 0.2
             }
            },
            "type": "histogram"
           }
          ],
          "histogram2d": [
           {
            "colorbar": {
             "outlinewidth": 0,
             "ticks": ""
            },
            "colorscale": [
             [
              0,
              "#0d0887"
             ],
             [
              0.1111111111111111,
              "#46039f"
             ],
             [
              0.2222222222222222,
              "#7201a8"
             ],
             [
              0.3333333333333333,
              "#9c179e"
             ],
             [
              0.4444444444444444,
              "#bd3786"
             ],
             [
              0.5555555555555556,
              "#d8576b"
             ],
             [
              0.6666666666666666,
              "#ed7953"
             ],
             [
              0.7777777777777778,
              "#fb9f3a"
             ],
             [
              0.8888888888888888,
              "#fdca26"
             ],
             [
              1,
              "#f0f921"
             ]
            ],
            "type": "histogram2d"
           }
          ],
          "histogram2dcontour": [
           {
            "colorbar": {
             "outlinewidth": 0,
             "ticks": ""
            },
            "colorscale": [
             [
              0,
              "#0d0887"
             ],
             [
              0.1111111111111111,
              "#46039f"
             ],
             [
              0.2222222222222222,
              "#7201a8"
             ],
             [
              0.3333333333333333,
              "#9c179e"
             ],
             [
              0.4444444444444444,
              "#bd3786"
             ],
             [
              0.5555555555555556,
              "#d8576b"
             ],
             [
              0.6666666666666666,
              "#ed7953"
             ],
             [
              0.7777777777777778,
              "#fb9f3a"
             ],
             [
              0.8888888888888888,
              "#fdca26"
             ],
             [
              1,
              "#f0f921"
             ]
            ],
            "type": "histogram2dcontour"
           }
          ],
          "mesh3d": [
           {
            "colorbar": {
             "outlinewidth": 0,
             "ticks": ""
            },
            "type": "mesh3d"
           }
          ],
          "parcoords": [
           {
            "line": {
             "colorbar": {
              "outlinewidth": 0,
              "ticks": ""
             }
            },
            "type": "parcoords"
           }
          ],
          "pie": [
           {
            "automargin": true,
            "type": "pie"
           }
          ],
          "scatter": [
           {
            "fillpattern": {
             "fillmode": "overlay",
             "size": 10,
             "solidity": 0.2
            },
            "type": "scatter"
           }
          ],
          "scatter3d": [
           {
            "line": {
             "colorbar": {
              "outlinewidth": 0,
              "ticks": ""
             }
            },
            "marker": {
             "colorbar": {
              "outlinewidth": 0,
              "ticks": ""
             }
            },
            "type": "scatter3d"
           }
          ],
          "scattercarpet": [
           {
            "marker": {
             "colorbar": {
              "outlinewidth": 0,
              "ticks": ""
             }
            },
            "type": "scattercarpet"
           }
          ],
          "scattergeo": [
           {
            "marker": {
             "colorbar": {
              "outlinewidth": 0,
              "ticks": ""
             }
            },
            "type": "scattergeo"
           }
          ],
          "scattergl": [
           {
            "marker": {
             "colorbar": {
              "outlinewidth": 0,
              "ticks": ""
             }
            },
            "type": "scattergl"
           }
          ],
          "scattermapbox": [
           {
            "marker": {
             "colorbar": {
              "outlinewidth": 0,
              "ticks": ""
             }
            },
            "type": "scattermapbox"
           }
          ],
          "scatterpolar": [
           {
            "marker": {
             "colorbar": {
              "outlinewidth": 0,
              "ticks": ""
             }
            },
            "type": "scatterpolar"
           }
          ],
          "scatterpolargl": [
           {
            "marker": {
             "colorbar": {
              "outlinewidth": 0,
              "ticks": ""
             }
            },
            "type": "scatterpolargl"
           }
          ],
          "scatterternary": [
           {
            "marker": {
             "colorbar": {
              "outlinewidth": 0,
              "ticks": ""
             }
            },
            "type": "scatterternary"
           }
          ],
          "surface": [
           {
            "colorbar": {
             "outlinewidth": 0,
             "ticks": ""
            },
            "colorscale": [
             [
              0,
              "#0d0887"
             ],
             [
              0.1111111111111111,
              "#46039f"
             ],
             [
              0.2222222222222222,
              "#7201a8"
             ],
             [
              0.3333333333333333,
              "#9c179e"
             ],
             [
              0.4444444444444444,
              "#bd3786"
             ],
             [
              0.5555555555555556,
              "#d8576b"
             ],
             [
              0.6666666666666666,
              "#ed7953"
             ],
             [
              0.7777777777777778,
              "#fb9f3a"
             ],
             [
              0.8888888888888888,
              "#fdca26"
             ],
             [
              1,
              "#f0f921"
             ]
            ],
            "type": "surface"
           }
          ],
          "table": [
           {
            "cells": {
             "fill": {
              "color": "#EBF0F8"
             },
             "line": {
              "color": "white"
             }
            },
            "header": {
             "fill": {
              "color": "#C8D4E3"
             },
             "line": {
              "color": "white"
             }
            },
            "type": "table"
           }
          ]
         },
         "layout": {
          "annotationdefaults": {
           "arrowcolor": "#2a3f5f",
           "arrowhead": 0,
           "arrowwidth": 1
          },
          "autotypenumbers": "strict",
          "coloraxis": {
           "colorbar": {
            "outlinewidth": 0,
            "ticks": ""
           }
          },
          "colorscale": {
           "diverging": [
            [
             0,
             "#8e0152"
            ],
            [
             0.1,
             "#c51b7d"
            ],
            [
             0.2,
             "#de77ae"
            ],
            [
             0.3,
             "#f1b6da"
            ],
            [
             0.4,
             "#fde0ef"
            ],
            [
             0.5,
             "#f7f7f7"
            ],
            [
             0.6,
             "#e6f5d0"
            ],
            [
             0.7,
             "#b8e186"
            ],
            [
             0.8,
             "#7fbc41"
            ],
            [
             0.9,
             "#4d9221"
            ],
            [
             1,
             "#276419"
            ]
           ],
           "sequential": [
            [
             0,
             "#0d0887"
            ],
            [
             0.1111111111111111,
             "#46039f"
            ],
            [
             0.2222222222222222,
             "#7201a8"
            ],
            [
             0.3333333333333333,
             "#9c179e"
            ],
            [
             0.4444444444444444,
             "#bd3786"
            ],
            [
             0.5555555555555556,
             "#d8576b"
            ],
            [
             0.6666666666666666,
             "#ed7953"
            ],
            [
             0.7777777777777778,
             "#fb9f3a"
            ],
            [
             0.8888888888888888,
             "#fdca26"
            ],
            [
             1,
             "#f0f921"
            ]
           ],
           "sequentialminus": [
            [
             0,
             "#0d0887"
            ],
            [
             0.1111111111111111,
             "#46039f"
            ],
            [
             0.2222222222222222,
             "#7201a8"
            ],
            [
             0.3333333333333333,
             "#9c179e"
            ],
            [
             0.4444444444444444,
             "#bd3786"
            ],
            [
             0.5555555555555556,
             "#d8576b"
            ],
            [
             0.6666666666666666,
             "#ed7953"
            ],
            [
             0.7777777777777778,
             "#fb9f3a"
            ],
            [
             0.8888888888888888,
             "#fdca26"
            ],
            [
             1,
             "#f0f921"
            ]
           ]
          },
          "colorway": [
           "#636efa",
           "#EF553B",
           "#00cc96",
           "#ab63fa",
           "#FFA15A",
           "#19d3f3",
           "#FF6692",
           "#B6E880",
           "#FF97FF",
           "#FECB52"
          ],
          "font": {
           "color": "#2a3f5f"
          },
          "geo": {
           "bgcolor": "white",
           "lakecolor": "white",
           "landcolor": "#E5ECF6",
           "showlakes": true,
           "showland": true,
           "subunitcolor": "white"
          },
          "hoverlabel": {
           "align": "left"
          },
          "hovermode": "closest",
          "mapbox": {
           "style": "light"
          },
          "paper_bgcolor": "white",
          "plot_bgcolor": "#E5ECF6",
          "polar": {
           "angularaxis": {
            "gridcolor": "white",
            "linecolor": "white",
            "ticks": ""
           },
           "bgcolor": "#E5ECF6",
           "radialaxis": {
            "gridcolor": "white",
            "linecolor": "white",
            "ticks": ""
           }
          },
          "scene": {
           "xaxis": {
            "backgroundcolor": "#E5ECF6",
            "gridcolor": "white",
            "gridwidth": 2,
            "linecolor": "white",
            "showbackground": true,
            "ticks": "",
            "zerolinecolor": "white"
           },
           "yaxis": {
            "backgroundcolor": "#E5ECF6",
            "gridcolor": "white",
            "gridwidth": 2,
            "linecolor": "white",
            "showbackground": true,
            "ticks": "",
            "zerolinecolor": "white"
           },
           "zaxis": {
            "backgroundcolor": "#E5ECF6",
            "gridcolor": "white",
            "gridwidth": 2,
            "linecolor": "white",
            "showbackground": true,
            "ticks": "",
            "zerolinecolor": "white"
           }
          },
          "shapedefaults": {
           "line": {
            "color": "#2a3f5f"
           }
          },
          "ternary": {
           "aaxis": {
            "gridcolor": "white",
            "linecolor": "white",
            "ticks": ""
           },
           "baxis": {
            "gridcolor": "white",
            "linecolor": "white",
            "ticks": ""
           },
           "bgcolor": "#E5ECF6",
           "caxis": {
            "gridcolor": "white",
            "linecolor": "white",
            "ticks": ""
           }
          },
          "title": {
           "x": 0.05
          },
          "xaxis": {
           "automargin": true,
           "gridcolor": "white",
           "linecolor": "white",
           "ticks": "",
           "title": {
            "standoff": 15
           },
           "zerolinecolor": "white",
           "zerolinewidth": 2
          },
          "yaxis": {
           "automargin": true,
           "gridcolor": "white",
           "linecolor": "white",
           "ticks": "",
           "title": {
            "standoff": 15
           },
           "zerolinecolor": "white",
           "zerolinewidth": 2
          }
         }
        },
        "title": {
         "text": "Воронка из шага в шаг c процентом перехода пользоватлей",
         "x": 0.5
        },
        "xaxis": {
         "autorange": true,
         "range": [
          -3978.594444444445,
          3978.594444444444
         ],
         "type": "linear"
        },
        "yaxis": {
         "autorange": true,
         "range": [
          3.5,
          -0.5
         ],
         "type": "category"
        }
       }
      },
      "image/png": "[encoded data removed]",
      "text/html": [
       "<div>                            <div id=\"90567e20-9971-450d-a84e-2dbcc2f65233\" class=\"plotly-graph-div\" style=\"height:525px; width:100%;\"></div>            <script type=\"text/javascript\">                require([\"plotly\"], function(Plotly) {                    window.PLOTLYENV=window.PLOTLYENV || {};                                    if (document.getElementById(\"90567e20-9971-450d-a84e-2dbcc2f65233\")) {                    Plotly.newPlot(                        \"90567e20-9971-450d-a84e-2dbcc2f65233\",                        [{\"name\":\"percent_%\",\"textinfo\":\"value+percent initial\",\"textposition\":\"outside\",\"x\":[98.47,59.18,47.36,44.68],\"y\":[\"mainscreenappear\",\"offersscreenappear\",\"cartscreenappear\",\"paymentscreensuccessful\"],\"type\":\"funnel\"},{\"name\":\"count_user\",\"orientation\":\"h\",\"textinfo\":\"value+percent previous\",\"textposition\":\"inside\",\"x\":[7063,4245,3397,3205],\"y\":[\"mainscreenappear\",\"offersscreenappear\",\"cartscreenappear\",\"paymentscreensuccessful\"],\"type\":\"funnel\"}],                        {\"template\":{\"data\":{\"histogram2dcontour\":[{\"type\":\"histogram2dcontour\",\"colorbar\":{\"outlinewidth\":0,\"ticks\":\"\"},\"colorscale\":[[0.0,\"#0d0887\"],[0.1111111111111111,\"#46039f\"],[0.2222222222222222,\"#7201a8\"],[0.3333333333333333,\"#9c179e\"],[0.4444444444444444,\"#bd3786\"],[0.5555555555555556,\"#d8576b\"],[0.6666666666666666,\"#ed7953\"],[0.7777777777777778,\"#fb9f3a\"],[0.8888888888888888,\"#fdca26\"],[1.0,\"#f0f921\"]]}],\"choropleth\":[{\"type\":\"choropleth\",\"colorbar\":{\"outlinewidth\":0,\"ticks\":\"\"}}],\"histogram2d\":[{\"type\":\"histogram2d\",\"colorbar\":{\"outlinewidth\":0,\"ticks\":\"\"},\"colorscale\":[[0.0,\"#0d0887\"],[0.1111111111111111,\"#46039f\"],[0.2222222222222222,\"#7201a8\"],[0.3333333333333333,\"#9c179e\"],[0.4444444444444444,\"#bd3786\"],[0.5555555555555556,\"#d8576b\"],[0.6666666666666666,\"#ed7953\"],[0.7777777777777778,\"#fb9f3a\"],[0.8888888888888888,\"#fdca26\"],[1.0,\"#f0f921\"]]}],\"heatmap\":[{\"type\":\"heatmap\",\"colorbar\":{\"outlinewidth\":0,\"ticks\":\"\"},\"colorscale\":[[0.0,\"#0d0887\"],[0.1111111111111111,\"#46039f\"],[0.2222222222222222,\"#7201a8\"],[0.3333333333333333,\"#9c179e\"],[0.4444444444444444,\"#bd3786\"],[0.5555555555555556,\"#d8576b\"],[0.6666666666666666,\"#ed7953\"],[0.7777777777777778,\"#fb9f3a\"],[0.8888888888888888,\"#fdca26\"],[1.0,\"#f0f921\"]]}],\"heatmapgl\":[{\"type\":\"heatmapgl\",\"colorbar\":{\"outlinewidth\":0,\"ticks\":\"\"},\"colorscale\":[[0.0,\"#0d0887\"],[0.1111111111111111,\"#46039f\"],[0.2222222222222222,\"#7201a8\"],[0.3333333333333333,\"#9c179e\"],[0.4444444444444444,\"#bd3786\"],[0.5555555555555556,\"#d8576b\"],[0.6666666666666666,\"#ed7953\"],[0.7777777777777778,\"#fb9f3a\"],[0.8888888888888888,\"#fdca26\"],[1.0,\"#f0f921\"]]}],\"contourcarpet\":[{\"type\":\"contourcarpet\",\"colorbar\":{\"outlinewidth\":0,\"ticks\":\"\"}}],\"contour\":[{\"type\":\"contour\",\"colorbar\":{\"outlinewidth\":0,\"ticks\":\"\"},\"colorscale\":[[0.0,\"#0d0887\"],[0.1111111111111111,\"#46039f\"],[0.2222222222222222,\"#7201a8\"],[0.3333333333333333,\"#9c179e\"],[0.4444444444444444,\"#bd3786\"],[0.5555555555555556,\"#d8576b\"],[0.6666666666666666,\"#ed7953\"],[0.7777777777777778,\"#fb9f3a\"],[0.8888888888888888,\"#fdca26\"],[1.0,\"#f0f921\"]]}],\"surface\":[{\"type\":\"surface\",\"colorbar\":{\"outlinewidth\":0,\"ticks\":\"\"},\"colorscale\":[[0.0,\"#0d0887\"],[0.1111111111111111,\"#46039f\"],[0.2222222222222222,\"#7201a8\"],[0.3333333333333333,\"#9c179e\"],[0.4444444444444444,\"#bd3786\"],[0.5555555555555556,\"#d8576b\"],[0.6666666666666666,\"#ed7953\"],[0.7777777777777778,\"#fb9f3a\"],[0.8888888888888888,\"#fdca26\"],[1.0,\"#f0f921\"]]}],\"mesh3d\":[{\"type\":\"mesh3d\",\"colorbar\":{\"outlinewidth\":0,\"ticks\":\"\"}}],\"scatter\":[{\"fillpattern\":{\"fillmode\":\"overlay\",\"size\":10,\"solidity\":0.2},\"type\":\"scatter\"}],\"parcoords\":[{\"type\":\"parcoords\",\"line\":{\"colorbar\":{\"outlinewidth\":0,\"ticks\":\"\"}}}],\"scatterpolargl\":[{\"type\":\"scatterpolargl\",\"marker\":{\"colorbar\":{\"outlinewidth\":0,\"ticks\":\"\"}}}],\"bar\":[{\"error_x\":{\"color\":\"#2a3f5f\"},\"error_y\":{\"color\":\"#2a3f5f\"},\"marker\":{\"line\":{\"color\":\"#E5ECF6\",\"width\":0.5},\"pattern\":{\"fillmode\":\"overlay\",\"size\":10,\"solidity\":0.2}},\"type\":\"bar\"}],\"scattergeo\":[{\"type\":\"scattergeo\",\"marker\":{\"colorbar\":{\"outlinewidth\":0,\"ticks\":\"\"}}}],\"scatterpolar\":[{\"type\":\"scatterpolar\",\"marker\":{\"colorbar\":{\"outlinewidth\":0,\"ticks\":\"\"}}}],\"histogram\":[{\"marker\":{\"pattern\":{\"fillmode\":\"overlay\",\"size\":10,\"solidity\":0.2}},\"type\":\"histogram\"}],\"scattergl\":[{\"type\":\"scattergl\",\"marker\":{\"colorbar\":{\"outlinewidth\":0,\"ticks\":\"\"}}}],\"scatter3d\":[{\"type\":\"scatter3d\",\"line\":{\"colorbar\":{\"outlinewidth\":0,\"ticks\":\"\"}},\"marker\":{\"colorbar\":{\"outlinewidth\":0,\"ticks\":\"\"}}}],\"scattermapbox\":[{\"type\":\"scattermapbox\",\"marker\":{\"colorbar\":{\"outlinewidth\":0,\"ticks\":\"\"}}}],\"scatterternary\":[{\"type\":\"scatterternary\",\"marker\":{\"colorbar\":{\"outlinewidth\":0,\"ticks\":\"\"}}}],\"scattercarpet\":[{\"type\":\"scattercarpet\",\"marker\":{\"colorbar\":{\"outlinewidth\":0,\"ticks\":\"\"}}}],\"carpet\":[{\"aaxis\":{\"endlinecolor\":\"#2a3f5f\",\"gridcolor\":\"white\",\"linecolor\":\"white\",\"minorgridcolor\":\"white\",\"startlinecolor\":\"#2a3f5f\"},\"baxis\":{\"endlinecolor\":\"#2a3f5f\",\"gridcolor\":\"white\",\"linecolor\":\"white\",\"minorgridcolor\":\"white\",\"startlinecolor\":\"#2a3f5f\"},\"type\":\"carpet\"}],\"table\":[{\"cells\":{\"fill\":{\"color\":\"#EBF0F8\"},\"line\":{\"color\":\"white\"}},\"header\":{\"fill\":{\"color\":\"#C8D4E3\"},\"line\":{\"color\":\"white\"}},\"type\":\"table\"}],\"barpolar\":[{\"marker\":{\"line\":{\"color\":\"#E5ECF6\",\"width\":0.5},\"pattern\":{\"fillmode\":\"overlay\",\"size\":10,\"solidity\":0.2}},\"type\":\"barpolar\"}],\"pie\":[{\"automargin\":true,\"type\":\"pie\"}]},\"layout\":{\"autotypenumbers\":\"strict\",\"colorway\":[\"#636efa\",\"#EF553B\",\"#00cc96\",\"#ab63fa\",\"#FFA15A\",\"#19d3f3\",\"#FF6692\",\"#B6E880\",\"#FF97FF\",\"#FECB52\"],\"font\":{\"color\":\"#2a3f5f\"},\"hovermode\":\"closest\",\"hoverlabel\":{\"align\":\"left\"},\"paper_bgcolor\":\"white\",\"plot_bgcolor\":\"#E5ECF6\",\"polar\":{\"bgcolor\":\"#E5ECF6\",\"angularaxis\":{\"gridcolor\":\"white\",\"linecolor\":\"white\",\"ticks\":\"\"},\"radialaxis\":{\"gridcolor\":\"white\",\"linecolor\":\"white\",\"ticks\":\"\"}},\"ternary\":{\"bgcolor\":\"#E5ECF6\",\"aaxis\":{\"gridcolor\":\"white\",\"linecolor\":\"white\",\"ticks\":\"\"},\"baxis\":{\"gridcolor\":\"white\",\"linecolor\":\"white\",\"ticks\":\"\"},\"caxis\":{\"gridcolor\":\"white\",\"linecolor\":\"white\",\"ticks\":\"\"}},\"coloraxis\":{\"colorbar\":{\"outlinewidth\":0,\"ticks\":\"\"}},\"colorscale\":{\"sequential\":[[0.0,\"#0d0887\"],[0.1111111111111111,\"#46039f\"],[0.2222222222222222,\"#7201a8\"],[0.3333333333333333,\"#9c179e\"],[0.4444444444444444,\"#bd3786\"],[0.5555555555555556,\"#d8576b\"],[0.6666666666666666,\"#ed7953\"],[0.7777777777777778,\"#fb9f3a\"],[0.8888888888888888,\"#fdca26\"],[1.0,\"#f0f921\"]],\"sequentialminus\":[[0.0,\"#0d0887\"],[0.1111111111111111,\"#46039f\"],[0.2222222222222222,\"#7201a8\"],[0.3333333333333333,\"#9c179e\"],[0.4444444444444444,\"#bd3786\"],[0.5555555555555556,\"#d8576b\"],[0.6666666666666666,\"#ed7953\"],[0.7777777777777778,\"#fb9f3a\"],[0.8888888888888888,\"#fdca26\"],[1.0,\"#f0f921\"]],\"diverging\":[[0,\"#8e0152\"],[0.1,\"#c51b7d\"],[0.2,\"#de77ae\"],[0.3,\"#f1b6da\"],[0.4,\"#fde0ef\"],[0.5,\"#f7f7f7\"],[0.6,\"#e6f5d0\"],[0.7,\"#b8e186\"],[0.8,\"#7fbc41\"],[0.9,\"#4d9221\"],[1,\"#276419\"]]},\"xaxis\":{\"gridcolor\":\"white\",\"linecolor\":\"white\",\"ticks\":\"\",\"title\":{\"standoff\":15},\"zerolinecolor\":\"white\",\"automargin\":true,\"zerolinewidth\":2},\"yaxis\":{\"gridcolor\":\"white\",\"linecolor\":\"white\",\"ticks\":\"\",\"title\":{\"standoff\":15},\"zerolinecolor\":\"white\",\"automargin\":true,\"zerolinewidth\":2},\"scene\":{\"xaxis\":{\"backgroundcolor\":\"#E5ECF6\",\"gridcolor\":\"white\",\"linecolor\":\"white\",\"showbackground\":true,\"ticks\":\"\",\"zerolinecolor\":\"white\",\"gridwidth\":2},\"yaxis\":{\"backgroundcolor\":\"#E5ECF6\",\"gridcolor\":\"white\",\"linecolor\":\"white\",\"showbackground\":true,\"ticks\":\"\",\"zerolinecolor\":\"white\",\"gridwidth\":2},\"zaxis\":{\"backgroundcolor\":\"#E5ECF6\",\"gridcolor\":\"white\",\"linecolor\":\"white\",\"showbackground\":true,\"ticks\":\"\",\"zerolinecolor\":\"white\",\"gridwidth\":2}},\"shapedefaults\":{\"line\":{\"color\":\"#2a3f5f\"}},\"annotationdefaults\":{\"arrowcolor\":\"#2a3f5f\",\"arrowhead\":0,\"arrowwidth\":1},\"geo\":{\"bgcolor\":\"white\",\"landcolor\":\"#E5ECF6\",\"subunitcolor\":\"white\",\"showland\":true,\"showlakes\":true,\"lakecolor\":\"white\"},\"title\":{\"x\":0.05},\"mapbox\":{\"style\":\"light\"}}},\"title\":{\"x\":0.5,\"text\":\"\\u0412\\u043e\\u0440\\u043e\\u043d\\u043a\\u0430 \\u0438\\u0437 \\u0448\\u0430\\u0433\\u0430 \\u0432 \\u0448\\u0430\\u0433 c \\u043f\\u0440\\u043e\\u0446\\u0435\\u043d\\u0442\\u043e\\u043c \\u043f\\u0435\\u0440\\u0435\\u0445\\u043e\\u0434\\u0430 \\u043f\\u043e\\u043b\\u044c\\u0437\\u043e\\u0432\\u0430\\u0442\\u043b\\u0435\\u0439\"}},                        {\"responsive\": true}                    ).then(function(){\n",
       "                            \n",
       "var gd = document.getElementById('90567e20-9971-450d-a84e-2dbcc2f65233');\n",
       "var x = new MutationObserver(function (mutations, observer) {{\n",
       "        var display = window.getComputedStyle(gd).display;\n",
       "        if (!display || display === 'none') {{\n",
       "            console.log([gd, 'removed!']);\n",
       "            Plotly.purge(gd);\n",
       "            observer.disconnect();\n",
       "        }}\n",
       "}});\n",
       "\n",
       "// Listen for the removal of the full notebook cells\n",
       "var notebookContainer = gd.closest('#notebook-container');\n",
       "if (notebookContainer) {{\n",
       "    x.observe(notebookContainer, {childList: true});\n",
       "}}\n",
       "\n",
       "// Listen for the clearing of the current output cell\n",
       "var outputEl = gd.closest('.output');\n",
       "if (outputEl) {{\n",
       "    x.observe(outputEl, {childList: true});\n",
       "}}\n",
       "\n",
       "                        })                };                });            </script>        </div>"
      ]
     },
     "metadata": {},
     "output_type": "display_data"
    }
   ],
   "source": [
    "fig = go.Figure()\n",
    "\n",
    "fig.add_trace(go.Funnel(\n",
    "    name = 'percent_%',\n",
    "    y = np.array(test_gr['event_name']),\n",
    "    x = np.array(test_gr['percent_%']),\n",
    "    textposition = \"outside\",\n",
    "    textinfo = \"value+percent initial\"))\n",
    "\n",
    "fig.add_trace(go.Funnel(\n",
    "    name = 'count_user',\n",
    "    orientation = \"h\",\n",
    "    y = np.array(test_gr['event_name']),\n",
    "    x = np.array(test_gr['user_id']),\n",
    "    textposition = \"inside\",\n",
    "    textinfo = \"value+percent previous\"))\n",
    "fig.update_layout(title={'x': 0.5, 'text': 'Воронка из шага в шаг c процентом перехода пользоватлей'})\n",
    "fig.show()"
   ]
  },
  {
   "cell_type": "markdown",
   "id": "ca432b36-a0f7-4188-a517-687a57941c9c",
   "metadata": {},
   "source": [
    "Заметно что, 60% пользователей переходят до шага предложения о покупке, 80% после этого добавляют товар в корзину, и 94% пользователей после добавления товара в корзину - совершают покупку."
   ]
  },
  {
   "cell_type": "markdown",
   "id": "25eec530-f694-4179-8f85-6e6bfef3da0b",
   "metadata": {},
   "source": [
    "Определим на каком шаге теряем больше всего пользователей"
   ]
  },
  {
   "cell_type": "code",
   "execution_count": 86,
   "id": "343640af-1035-424c-a929-9c76b38bdb64",
   "metadata": {},
   "outputs": [
    {
     "data": {
      "text/html": [
       "<div>\n",
       "<style scoped>\n",
       "    .dataframe tbody tr th:only-of-type {\n",
       "        vertical-align: middle;\n",
       "    }\n",
       "\n",
       "    .dataframe tbody tr th {\n",
       "        vertical-align: top;\n",
       "    }\n",
       "\n",
       "    .dataframe thead th {\n",
       "        text-align: right;\n",
       "    }\n",
       "</style>\n",
       "<table border=\"1\" class=\"dataframe\">\n",
       "  <thead>\n",
       "    <tr style=\"text-align: right;\">\n",
       "      <th></th>\n",
       "      <th>user_id</th>\n",
       "      <th>percent_%</th>\n",
       "      <th>next_step</th>\n",
       "      <th>churn</th>\n",
       "    </tr>\n",
       "    <tr>\n",
       "      <th>event_name</th>\n",
       "      <th></th>\n",
       "      <th></th>\n",
       "      <th></th>\n",
       "      <th></th>\n",
       "    </tr>\n",
       "  </thead>\n",
       "  <tbody>\n",
       "    <tr>\n",
       "      <th>mainscreenappear</th>\n",
       "      <td>7063</td>\n",
       "      <td>98.47</td>\n",
       "      <td>NaN</td>\n",
       "      <td>NaN</td>\n",
       "    </tr>\n",
       "    <tr>\n",
       "      <th>offersscreenappear</th>\n",
       "      <td>4245</td>\n",
       "      <td>59.18</td>\n",
       "      <td>0.601</td>\n",
       "      <td>0.399</td>\n",
       "    </tr>\n",
       "    <tr>\n",
       "      <th>cartscreenappear</th>\n",
       "      <td>3397</td>\n",
       "      <td>47.36</td>\n",
       "      <td>0.800</td>\n",
       "      <td>0.200</td>\n",
       "    </tr>\n",
       "    <tr>\n",
       "      <th>paymentscreensuccessful</th>\n",
       "      <td>3205</td>\n",
       "      <td>44.68</td>\n",
       "      <td>0.943</td>\n",
       "      <td>0.057</td>\n",
       "    </tr>\n",
       "  </tbody>\n",
       "</table>\n",
       "</div>"
      ],
      "text/plain": [
       "                         user_id  percent_%  next_step  churn\n",
       "event_name                                                   \n",
       "mainscreenappear            7063      98.47        NaN    NaN\n",
       "offersscreenappear          4245      59.18      0.601  0.399\n",
       "cartscreenappear            3397      47.36      0.800  0.200\n",
       "paymentscreensuccessful     3205      44.68      0.943  0.057"
      ]
     },
     "execution_count": 86,
     "metadata": {},
     "output_type": "execute_result"
    }
   ],
   "source": [
    "userGroup['churn'] =  round((1 - userGroup['next_step']),3) \n",
    "userGroup"
   ]
  },
  {
   "cell_type": "markdown",
   "id": "b1774cea-5a7d-42e7-a24e-4f4916afcdda",
   "metadata": {},
   "source": [
    "Заметно, что на переходе от главного экрана до предложения товара уходит 40% пользователей, от предложения товара до добавления товара в корзину уходит 20% пользователей, и на переходе после добавления товара в корзину до оплаты уходит 5% пользователей"
   ]
  },
  {
   "cell_type": "markdown",
   "id": "63285335-bac9-4ab6-87ef-d98a1b1d63cd",
   "metadata": {},
   "source": [
    "Посмотрим какая  доля пользователей доходит от первого события до оплаты"
   ]
  },
  {
   "cell_type": "code",
   "execution_count": 87,
   "id": "85c65bc2-9c23-4c1b-8646-c25a6efeffe6",
   "metadata": {},
   "outputs": [
    {
     "name": "stdout",
     "output_type": "stream",
     "text": [
      "Доля пользователей которые доходят от начала до оплаты 45.38%\n"
     ]
    }
   ],
   "source": [
    "print('Доля пользователей которые доходят от начала до оплаты', '{0:.2f}%'.format(round((userGroup.iloc[3,0]/userGroup.iloc[0,0])*100,2)))"
   ]
  },
  {
   "cell_type": "markdown",
   "id": "a9008d8f-f2a9-4459-85ad-93d23104ef29",
   "metadata": {},
   "source": [
    "### Шаг 5. Изучим результаты эксперимента"
   ]
  },
  {
   "cell_type": "markdown",
   "id": "a0ddeb6b-cb29-47b8-9bbf-0be9289c699f",
   "metadata": {},
   "source": [
    "Сколько пользователей в каждой экспериментальной группе"
   ]
  },
  {
   "cell_type": "code",
   "execution_count": 88,
   "id": "38f559ed-d50f-43b9-a10b-667eda74ef17",
   "metadata": {},
   "outputs": [
    {
     "data": {
      "text/html": [
       "<div>\n",
       "<style scoped>\n",
       "    .dataframe tbody tr th:only-of-type {\n",
       "        vertical-align: middle;\n",
       "    }\n",
       "\n",
       "    .dataframe tbody tr th {\n",
       "        vertical-align: top;\n",
       "    }\n",
       "\n",
       "    .dataframe thead th {\n",
       "        text-align: right;\n",
       "    }\n",
       "</style>\n",
       "<table border=\"1\" class=\"dataframe\">\n",
       "  <thead>\n",
       "    <tr style=\"text-align: right;\">\n",
       "      <th></th>\n",
       "      <th>group</th>\n",
       "      <th>user_id</th>\n",
       "    </tr>\n",
       "  </thead>\n",
       "  <tbody>\n",
       "    <tr>\n",
       "      <th>0</th>\n",
       "      <td>246</td>\n",
       "      <td>2365</td>\n",
       "    </tr>\n",
       "    <tr>\n",
       "      <th>1</th>\n",
       "      <td>247</td>\n",
       "      <td>2399</td>\n",
       "    </tr>\n",
       "    <tr>\n",
       "      <th>2</th>\n",
       "      <td>248</td>\n",
       "      <td>2409</td>\n",
       "    </tr>\n",
       "  </tbody>\n",
       "</table>\n",
       "</div>"
      ],
      "text/plain": [
       "   group  user_id\n",
       "0    246     2365\n",
       "1    247     2399\n",
       "2    248     2409"
      ]
     },
     "execution_count": 88,
     "metadata": {},
     "output_type": "execute_result"
    }
   ],
   "source": [
    "log_AA = log_f.groupby('group').agg({'user_id':'nunique'}).reset_index()\n",
    "log_AA"
   ]
  },
  {
   "cell_type": "markdown",
   "id": "eb4c49e2-7994-425b-9d54-e8fd77184758",
   "metadata": {},
   "source": [
    "Есть 2 контрольные группы для А/А-эксперимента, чтобы проверить корректность всех механизмов и расчётов. Проверим, находят ли статистические критерии разницу между выборками 246 и 247."
   ]
  },
  {
   "cell_type": "markdown",
   "id": "cdef278e-3836-4853-a724-32ca93a87642",
   "metadata": {},
   "source": [
    "Проверим, чтобы каждый пользователь принадлежал только одной группе"
   ]
  },
  {
   "cell_type": "code",
   "execution_count": 89,
   "id": "80347e32-f371-4eaa-892e-69ff4c516e46",
   "metadata": {},
   "outputs": [
    {
     "data": {
      "text/html": [
       "<div>\n",
       "<style scoped>\n",
       "    .dataframe tbody tr th:only-of-type {\n",
       "        vertical-align: middle;\n",
       "    }\n",
       "\n",
       "    .dataframe tbody tr th {\n",
       "        vertical-align: top;\n",
       "    }\n",
       "\n",
       "    .dataframe thead th {\n",
       "        text-align: right;\n",
       "    }\n",
       "</style>\n",
       "<table border=\"1\" class=\"dataframe\">\n",
       "  <thead>\n",
       "    <tr style=\"text-align: right;\">\n",
       "      <th></th>\n",
       "      <th>user_id</th>\n",
       "      <th>group</th>\n",
       "    </tr>\n",
       "  </thead>\n",
       "  <tbody>\n",
       "  </tbody>\n",
       "</table>\n",
       "</div>"
      ],
      "text/plain": [
       "Empty DataFrame\n",
       "Columns: [user_id, group]\n",
       "Index: []"
      ]
     },
     "execution_count": 89,
     "metadata": {},
     "output_type": "execute_result"
    }
   ],
   "source": [
    "(log.groupby('user_id')\n",
    " .agg({'group':'nunique'})\n",
    " .query('group > 1')\n",
    " .reset_index())"
   ]
  },
  {
   "cell_type": "markdown",
   "id": "bd6d6ce8-94db-4d41-ace0-5001adb021a2",
   "metadata": {},
   "source": [
    "Ни один пользрователь не попадает в разные группы одновременно"
   ]
  },
  {
   "cell_type": "code",
   "execution_count": 90,
   "id": "1ef25fbd-6794-4076-bb65-681199666c13",
   "metadata": {},
   "outputs": [
    {
     "name": "stdout",
     "output_type": "stream",
     "text": [
      "Количество пользователей в группах различается на 1.42 %\n"
     ]
    }
   ],
   "source": [
    "A1 = log_AA.iloc[0,1]\n",
    "A2 = log_AA.iloc[1,1]\n",
    "print('Количество пользователей в группах различается на', round(100 - (A1 / A2 * 100), 2), '%')"
   ]
  },
  {
   "cell_type": "markdown",
   "id": "526e4636-b081-4734-8ad6-8033dd1d4aa6",
   "metadata": {},
   "source": [
    "Число пользователей в группах отличается на 1.42%, это больше, чем 1%, но не существенно."
   ]
  },
  {
   "cell_type": "markdown",
   "id": "5027262f-7a77-4d48-a669-fa6fe891b6ec",
   "metadata": {},
   "source": [
    "Критерии успешного A/A-теста: \n",
    "- Количество пользователей в различных группах различается не более, чем на 1%;\n",
    "- Для всех групп фиксируют и отправляют в системы аналитики данные об одном и том же;\n",
    "- Различие ключевых метрик по группам не превышает 1% и не имеет статистической значимости;\n",
    "- Попавший в одну из групп посетитель остаётся в этой группе до конца теста. Если пользователь видит разные версии исследуемой страницы в ходе одного исследования, неизвестно, какая именно повлияла на его решения. Значит, и результаты такого теста нельзя интерпретировать однозначно."
   ]
  },
  {
   "cell_type": "code",
   "execution_count": 91,
   "id": "f4cba30c-3e3d-4d9e-ab09-bc2921cb9a4f",
   "metadata": {},
   "outputs": [
    {
     "data": {
      "text/html": [
       "<div>\n",
       "<style scoped>\n",
       "    .dataframe tbody tr th:only-of-type {\n",
       "        vertical-align: middle;\n",
       "    }\n",
       "\n",
       "    .dataframe tbody tr th {\n",
       "        vertical-align: top;\n",
       "    }\n",
       "\n",
       "    .dataframe thead th {\n",
       "        text-align: right;\n",
       "    }\n",
       "</style>\n",
       "<table border=\"1\" class=\"dataframe\">\n",
       "  <thead>\n",
       "    <tr style=\"text-align: right;\">\n",
       "      <th>event_name</th>\n",
       "      <th>group</th>\n",
       "      <th>cartscreenappear</th>\n",
       "      <th>mainscreenappear</th>\n",
       "      <th>offersscreenappear</th>\n",
       "      <th>paymentscreensuccessful</th>\n",
       "      <th>tutorial</th>\n",
       "      <th>total_users</th>\n",
       "    </tr>\n",
       "  </thead>\n",
       "  <tbody>\n",
       "    <tr>\n",
       "      <th>0</th>\n",
       "      <td>246</td>\n",
       "      <td>1154</td>\n",
       "      <td>2332</td>\n",
       "      <td>1427</td>\n",
       "      <td>1088</td>\n",
       "      <td>253</td>\n",
       "      <td>2365</td>\n",
       "    </tr>\n",
       "    <tr>\n",
       "      <th>1</th>\n",
       "      <td>247</td>\n",
       "      <td>1134</td>\n",
       "      <td>2365</td>\n",
       "      <td>1411</td>\n",
       "      <td>1055</td>\n",
       "      <td>268</td>\n",
       "      <td>2399</td>\n",
       "    </tr>\n",
       "    <tr>\n",
       "      <th>2</th>\n",
       "      <td>248</td>\n",
       "      <td>1109</td>\n",
       "      <td>2366</td>\n",
       "      <td>1407</td>\n",
       "      <td>1062</td>\n",
       "      <td>255</td>\n",
       "      <td>2409</td>\n",
       "    </tr>\n",
       "  </tbody>\n",
       "</table>\n",
       "</div>"
      ],
      "text/plain": [
       "event_name  group  cartscreenappear  mainscreenappear  offersscreenappear  \\\n",
       "0             246              1154              2332                1427   \n",
       "1             247              1134              2365                1411   \n",
       "2             248              1109              2366                1407   \n",
       "\n",
       "event_name  paymentscreensuccessful  tutorial  total_users  \n",
       "0                              1088       253         2365  \n",
       "1                              1055       268         2399  \n",
       "2                              1062       255         2409  "
      ]
     },
     "execution_count": 91,
     "metadata": {},
     "output_type": "execute_result"
    }
   ],
   "source": [
    "user_event = (log_f.pivot_table(index='group', \n",
    "                               columns='event_name', \n",
    "                               values='user_id', \n",
    "                               aggfunc=({'user_id':'nunique'}))\n",
    "                   .reset_index())\n",
    "\n",
    "user_event['total_users'] = log_AA['user_id']\n",
    "\n",
    "user_event"
   ]
  },
  {
   "cell_type": "markdown",
   "id": "34c9ddf4-65a9-413e-a46b-4aac82ff37a2",
   "metadata": {},
   "source": [
    "Определим метрику по которой будем сравнивать группы 246 и 247 конверсию пользователя в покупку. По событию paymentscreensuccessful\n"
   ]
  },
  {
   "cell_type": "markdown",
   "id": "63b6600a-4fda-4e86-bb1a-246e2b6ad4da",
   "metadata": {},
   "source": [
    "****Для проверки гипотез воспользуемся Z-тестом  определим alpha = 0.05  критический уровень статистической значимости применим к этому значению поправку Бонферрони, потому как у нас будет 20 сравнений alpha = 0.05/20 сравнений****"
   ]
  },
  {
   "cell_type": "markdown",
   "id": "da059573-97b4-4c2f-856f-86d2636c1c21",
   "metadata": {},
   "source": [
    "Сформулируем нулевую и альтернативную гипотезу:\n",
    "- Нулевая: Конверсия пользователя в покупку группы 246 равна конверсии группы 247\n",
    "- Альтернативная : Конверсия пользователя в покупку группы 246  не равна конверсии группы 247"
   ]
  },
  {
   "cell_type": "markdown",
   "id": "2572f26f-27f1-47e2-b839-8c543665ab2c",
   "metadata": {},
   "source": [
    "Для дальнейших проверок различных событий определим функцию"
   ]
  },
  {
   "cell_type": "code",
   "execution_count": 92,
   "id": "57b6dae7-907b-49d5-93fd-15ba546e96a3",
   "metadata": {},
   "outputs": [],
   "source": [
    "def test_res(p_value, alpha_b):    \n",
    "     \n",
    "    if p_value < alpha_b:\n",
    "        print('Отвергаем нулевую гипотезу: между долями есть значимая разница')\n",
    "        print('p-value: ', '{0:.4f}'.format(p_value), 'меньше чем уровень статистической значимости')\n",
    "    else:\n",
    "        print('p-value: ', '{0:.4f}'.format(p_value), 'больше чем уровень статистической значимости')\n",
    "        print(\n",
    "        'Не получилось отвергнуть нулевую гипотезу, нет оснований считать доли разными' ) \n",
    "        \n",
    "def test_values(successes_1, successes_2, trials_1, trials_2, alpha):\n",
    "                                \n",
    "                               \n",
    "                # пропорция успехов в первой группе:\n",
    "                p1 = successes_1/trials_1\n",
    "                \n",
    "                # пропорция успехов во второй группе:\n",
    "                p2 = successes_2/trials_2\n",
    "                \n",
    "                # пропорция успехов в комбинированном датасете:\n",
    "                p_combined = (successes_1 + successes_2) / (trials_1 + trials_2)\n",
    "                \n",
    "                # разница пропорций в датасетах\n",
    "                difference = p1 - p2 \n",
    "                \n",
    "                # считаем статистику в ст.отклонениях стандартного нормального распределения\n",
    "                z_value = difference / mth.sqrt(p_combined * (1 - p_combined) * (1/trials_1 + 1/trials_2))\n",
    "                \n",
    "                # задаем стандартное нормальное распределение (среднее 0, ст.отклонение 1)\n",
    "                distr = st.norm(0, 1) \n",
    "\n",
    "                alpha_b = alpha / 20\n",
    "               \n",
    "                p_value = (1 - distr.cdf(abs(z_value))) * 2\n",
    "                \n",
    "                return  test_res(p_value, alpha_b)\n",
    "\n"
   ]
  },
  {
   "cell_type": "code",
   "execution_count": 93,
   "id": "3a32e7e2-4eff-4f32-b09f-4cf09f687948",
   "metadata": {},
   "outputs": [
    {
     "name": "stdout",
     "output_type": "stream",
     "text": [
      "p-value:  0.1596 больше чем уровень статистической значимости\n",
      "Не получилось отвергнуть нулевую гипотезу, нет оснований считать доли разными\n"
     ]
    }
   ],
   "source": [
    "test_values(user_event.iloc[0,4], \n",
    "            user_event.iloc[1,4],\n",
    "            user_event.iloc[0,6],\n",
    "            user_event.iloc[1,6],0.05)"
   ]
  },
  {
   "cell_type": "markdown",
   "id": "5336e115-afbf-4c50-a286-8e7f3050c679",
   "metadata": {},
   "source": [
    "Вывод :\n",
    "Статистические критерии разницы между выборками групп 246 и 247  для события paymentscreensuccessful отсутствуют"
   ]
  },
  {
   "cell_type": "markdown",
   "id": "109708ba-7524-416b-933c-736cc80580ad",
   "metadata": {},
   "source": [
    "Выберем самое популярное событие **mainscreenappear**(появление главного экрана) и посчитаем число пользователей, совершивших это событие в каждой из контрольных групп"
   ]
  },
  {
   "cell_type": "code",
   "execution_count": 94,
   "id": "9820c577-036e-4672-a0ca-ecc1c0c5a3ef",
   "metadata": {},
   "outputs": [
    {
     "data": {
      "text/html": [
       "<div>\n",
       "<style scoped>\n",
       "    .dataframe tbody tr th:only-of-type {\n",
       "        vertical-align: middle;\n",
       "    }\n",
       "\n",
       "    .dataframe tbody tr th {\n",
       "        vertical-align: top;\n",
       "    }\n",
       "\n",
       "    .dataframe thead th {\n",
       "        text-align: right;\n",
       "    }\n",
       "</style>\n",
       "<table border=\"1\" class=\"dataframe\">\n",
       "  <thead>\n",
       "    <tr style=\"text-align: right;\">\n",
       "      <th>event_name</th>\n",
       "      <th>group</th>\n",
       "      <th>mainscreenappear</th>\n",
       "      <th>total_users</th>\n",
       "    </tr>\n",
       "  </thead>\n",
       "  <tbody>\n",
       "    <tr>\n",
       "      <th>0</th>\n",
       "      <td>246</td>\n",
       "      <td>2332</td>\n",
       "      <td>2365</td>\n",
       "    </tr>\n",
       "    <tr>\n",
       "      <th>1</th>\n",
       "      <td>247</td>\n",
       "      <td>2365</td>\n",
       "      <td>2399</td>\n",
       "    </tr>\n",
       "    <tr>\n",
       "      <th>2</th>\n",
       "      <td>248</td>\n",
       "      <td>2366</td>\n",
       "      <td>2409</td>\n",
       "    </tr>\n",
       "  </tbody>\n",
       "</table>\n",
       "</div>"
      ],
      "text/plain": [
       "event_name  group  mainscreenappear  total_users\n",
       "0             246              2332         2365\n",
       "1             247              2365         2399\n",
       "2             248              2366         2409"
      ]
     },
     "execution_count": 94,
     "metadata": {},
     "output_type": "execute_result"
    }
   ],
   "source": [
    "user_event[['group','mainscreenappear','total_users']]"
   ]
  },
  {
   "cell_type": "markdown",
   "id": "3b1f9743-9481-4417-a0cb-0491b6876836",
   "metadata": {},
   "source": [
    "- Количество пользователей совершившие событие в группе 246 = 2332\n",
    "- Количество пользователей совершившие событие в группе 247 = 2365"
   ]
  },
  {
   "cell_type": "markdown",
   "id": "e3ed5736-ef47-4ac4-84da-0ab765b03364",
   "metadata": {},
   "source": [
    "Посчитаем долю пользователей, совершивших это событие."
   ]
  },
  {
   "cell_type": "code",
   "execution_count": 95,
   "id": "e27e07dd-e093-4ab0-9142-b4595e7af0f0",
   "metadata": {},
   "outputs": [
    {
     "data": {
      "text/plain": [
       "0    98.6\n",
       "1    98.6\n",
       "2    98.2\n",
       "dtype: float64"
      ]
     },
     "execution_count": 95,
     "metadata": {},
     "output_type": "execute_result"
    }
   ],
   "source": [
    "round((user_event['mainscreenappear'] / user_event['total_users'])*100,1)"
   ]
  },
  {
   "cell_type": "markdown",
   "id": "b107b7ef-20b0-492b-9a80-90c0470eeebf",
   "metadata": {},
   "source": [
    "Большинство пользователей в каждой из групп в **98%** проходили через главный экран приложения"
   ]
  },
  {
   "cell_type": "markdown",
   "id": "7282f54a-5c2a-4d66-94f7-16962acb7d6e",
   "metadata": {},
   "source": [
    "Проверим, будет ли отличие между группами статистически достоверным. Проведем тест"
   ]
  },
  {
   "cell_type": "code",
   "execution_count": 96,
   "id": "84fc0df6-a8b1-417c-b2ce-73be1448ac51",
   "metadata": {},
   "outputs": [
    {
     "name": "stdout",
     "output_type": "stream",
     "text": [
      "Проверка гипотез о разнице конверсии для групп пользоватлей 246,247  по событию mainscreenappear\n",
      "p-value:  0.9488 больше чем уровень статистической значимости\n",
      "Не получилось отвергнуть нулевую гипотезу, нет оснований считать доли разными\n"
     ]
    }
   ],
   "source": [
    "print('Проверка гипотез о разнице конверсии для групп пользоватлей 246,247  по событию mainscreenappear')\n",
    "\n",
    "test_values(user_event.iloc[0,2], \n",
    "            user_event.iloc[1,2],\n",
    "            user_event.iloc[0,6],\n",
    "            user_event.iloc[1,6],0.05)"
   ]
  },
  {
   "cell_type": "markdown",
   "id": "8d66f4aa-8ef4-45cf-af3c-132739cd585f",
   "metadata": {},
   "source": [
    "Вывод :\n",
    "Статистические критерии разницы между выборками групп 246 и 247  для события mainscreenappear отсутствуют"
   ]
  },
  {
   "cell_type": "markdown",
   "id": "4c6ee1e6-17a0-43b4-9832-ba8dab7c1b9c",
   "metadata": {},
   "source": [
    "Сделаем тесты для остальных событий "
   ]
  },
  {
   "cell_type": "code",
   "execution_count": 97,
   "id": "f3be3e2a-2790-4351-923b-47dd5a118142",
   "metadata": {},
   "outputs": [
    {
     "name": "stdout",
     "output_type": "stream",
     "text": [
      "Проверка гипотез о разнице конверсии для групп пользоватлей 246,247  по событию  cartscreenappear\n",
      "p-value:  0.2921 больше чем уровень статистической значимости\n",
      "Не получилось отвергнуть нулевую гипотезу, нет оснований считать доли разными\n",
      "\n",
      "\n",
      "Проверка гипотез о разнице конверсии для групп пользоватлей 246,247  по событию  offersscreenappear\n",
      "p-value:  0.2845 больше чем уровень статистической значимости\n",
      "Не получилось отвергнуть нулевую гипотезу, нет оснований считать доли разными\n",
      "\n",
      "\n",
      "Проверка гипотез о разнице конверсии для групп пользоватлей 246,247  по событию  tutorial\n",
      "p-value:  0.6005 больше чем уровень статистической значимости\n",
      "Не получилось отвергнуть нулевую гипотезу, нет оснований считать доли разными\n",
      "\n",
      "\n"
     ]
    }
   ],
   "source": [
    "col = [1,3,5]\n",
    "\n",
    "for i in col:\n",
    "    print('Проверка гипотез о разнице конверсии для групп пользоватлей 246,247  по событию ', user_event.columns[i])\n",
    "    test_values(user_event.iloc[0,i],\n",
    "                user_event.iloc[1,i],\n",
    "                user_event.iloc[0,6],\n",
    "                user_event.iloc[1,6],0.05)\n",
    "    print('\\n')\n",
    "                "
   ]
  },
  {
   "cell_type": "markdown",
   "id": "d6897c37-46d0-4fdf-b90a-2e017d76c4ce",
   "metadata": {},
   "source": [
    "Вывод :\n",
    "Статистические критерии разницы между выборками групп 246 и 247  отсутствуют"
   ]
  },
  {
   "cell_type": "markdown",
   "id": "84a1aa36-546b-4748-a86b-a5c8e9d92ef9",
   "metadata": {},
   "source": [
    "Сравним результаты с каждой из контрольных групп с группой с изменённым шрифтом в отдельности по каждому событию\n",
    "\n",
    "A/A/B тестирование"
   ]
  },
  {
   "cell_type": "code",
   "execution_count": 98,
   "id": "67926787-2df0-4230-a31f-5c2213e7d2cb",
   "metadata": {},
   "outputs": [
    {
     "name": "stdout",
     "output_type": "stream",
     "text": [
      "ПРОВЕРКА МЕЖДУ ГРУППАМИ 246 и 248\n",
      "\n",
      "\n",
      "Проверка гипотез о разнице конверсии для групп пользоватлей 246,248  по событию  cartscreenappear\n",
      "p-value:  0.0563 больше чем уровень статистической значимости\n",
      "Не получилось отвергнуть нулевую гипотезу, нет оснований считать доли разными\n",
      "\n",
      "\n",
      "Проверка гипотез о разнице конверсии для групп пользоватлей 246,248  по событию  mainscreenappear\n",
      "p-value:  0.2822 больше чем уровень статистической значимости\n",
      "Не получилось отвергнуть нулевую гипотезу, нет оснований считать доли разными\n",
      "\n",
      "\n",
      "Проверка гипотез о разнице конверсии для групп пользоватлей 246,248  по событию  offersscreenappear\n",
      "p-value:  0.1741 больше чем уровень статистической значимости\n",
      "Не получилось отвергнуть нулевую гипотезу, нет оснований считать доли разными\n",
      "\n",
      "\n",
      "Проверка гипотез о разнице конверсии для групп пользоватлей 246,248  по событию  paymentscreensuccessful\n",
      "p-value:  0.1826 больше чем уровень статистической значимости\n",
      "Не получилось отвергнуть нулевую гипотезу, нет оснований считать доли разными\n",
      "\n",
      "\n",
      "Проверка гипотез о разнице конверсии для групп пользоватлей 246,248  по событию  tutorial\n",
      "p-value:  0.8998 больше чем уровень статистической значимости\n",
      "Не получилось отвергнуть нулевую гипотезу, нет оснований считать доли разными\n",
      "\n",
      "\n"
     ]
    }
   ],
   "source": [
    "print('ПРОВЕРКА МЕЖДУ ГРУППАМИ 246 и 248')\n",
    "print('\\n')\n",
    "col = [1,2,3,4,5]\n",
    "\n",
    "for i in col:\n",
    "    print('Проверка гипотез о разнице конверсии для групп пользоватлей 246,248  по событию ', user_event.columns[i])\n",
    "    test_values(user_event.iloc[0,i],\n",
    "                user_event.iloc[2,i],\n",
    "                user_event.iloc[0,6],\n",
    "                user_event.iloc[2,6],0.05)\n",
    "    print('\\n')"
   ]
  },
  {
   "cell_type": "code",
   "execution_count": 99,
   "id": "b3f6b4c2-b306-49e5-b9f3-6d96c1aa0790",
   "metadata": {},
   "outputs": [
    {
     "name": "stdout",
     "output_type": "stream",
     "text": [
      "ПРОВЕРКА МЕЖДУ ГРУППАМИ 247 и 248\n",
      "\n",
      "\n",
      "Проверка гипотез о разнице конверсии для групп пользоватлей 247,248  по событию  cartscreenappear\n",
      "p-value:  0.3911 больше чем уровень статистической значимости\n",
      "Не получилось отвергнуть нулевую гипотезу, нет оснований считать доли разными\n",
      "\n",
      "\n",
      "Проверка гипотез о разнице конверсии для групп пользоватлей 247,248  по событию  mainscreenappear\n",
      "p-value:  0.3098 больше чем уровень статистической значимости\n",
      "Не получилось отвергнуть нулевую гипотезу, нет оснований считать доли разными\n",
      "\n",
      "\n",
      "Проверка гипотез о разнице конверсии для групп пользоватлей 247,248  по событию  offersscreenappear\n",
      "p-value:  0.7728 больше чем уровень статистической значимости\n",
      "Не получилось отвергнуть нулевую гипотезу, нет оснований считать доли разными\n",
      "\n",
      "\n",
      "Проверка гипотез о разнице конверсии для групп пользоватлей 247,248  по событию  paymentscreensuccessful\n",
      "p-value:  0.9399 больше чем уровень статистической значимости\n",
      "Не получилось отвергнуть нулевую гипотезу, нет оснований считать доли разными\n",
      "\n",
      "\n",
      "Проверка гипотез о разнице конверсии для групп пользоватлей 247,248  по событию  tutorial\n",
      "p-value:  0.5141 больше чем уровень статистической значимости\n",
      "Не получилось отвергнуть нулевую гипотезу, нет оснований считать доли разными\n",
      "\n",
      "\n"
     ]
    }
   ],
   "source": [
    "print('ПРОВЕРКА МЕЖДУ ГРУППАМИ 247 и 248')\n",
    "print('\\n')\n",
    "col = [1,2,3,4,5]\n",
    "\n",
    "for i in col:\n",
    "    print('Проверка гипотез о разнице конверсии для групп пользоватлей 247,248  по событию ', user_event.columns[i])\n",
    "    test_values(user_event.iloc[1,i],\n",
    "                user_event.iloc[2,i],\n",
    "                user_event.iloc[1,6],\n",
    "                user_event.iloc[2,6],0.05)\n",
    "    print('\\n')"
   ]
  },
  {
   "cell_type": "markdown",
   "id": "11df9e39-ed66-4664-8b84-641350652bfb",
   "metadata": {},
   "source": [
    "Сравним результаты с объединённой контрольной группой"
   ]
  },
  {
   "cell_type": "code",
   "execution_count": 100,
   "id": "9d3a4556-58a9-40b6-975d-911d902f9d5b",
   "metadata": {},
   "outputs": [],
   "source": [
    "user_event.loc[3] = user_event.loc[[0,1]].sum(axis=0)"
   ]
  },
  {
   "cell_type": "code",
   "execution_count": 101,
   "id": "1ae26d37-fc2e-4332-8ebc-21f48238c0fc",
   "metadata": {},
   "outputs": [
    {
     "data": {
      "text/html": [
       "<div>\n",
       "<style scoped>\n",
       "    .dataframe tbody tr th:only-of-type {\n",
       "        vertical-align: middle;\n",
       "    }\n",
       "\n",
       "    .dataframe tbody tr th {\n",
       "        vertical-align: top;\n",
       "    }\n",
       "\n",
       "    .dataframe thead th {\n",
       "        text-align: right;\n",
       "    }\n",
       "</style>\n",
       "<table border=\"1\" class=\"dataframe\">\n",
       "  <thead>\n",
       "    <tr style=\"text-align: right;\">\n",
       "      <th>event_name</th>\n",
       "      <th>group</th>\n",
       "      <th>cartscreenappear</th>\n",
       "      <th>mainscreenappear</th>\n",
       "      <th>offersscreenappear</th>\n",
       "      <th>paymentscreensuccessful</th>\n",
       "      <th>tutorial</th>\n",
       "      <th>total_users</th>\n",
       "    </tr>\n",
       "  </thead>\n",
       "  <tbody>\n",
       "    <tr>\n",
       "      <th>0</th>\n",
       "      <td>246</td>\n",
       "      <td>1154</td>\n",
       "      <td>2332</td>\n",
       "      <td>1427</td>\n",
       "      <td>1088</td>\n",
       "      <td>253</td>\n",
       "      <td>2365</td>\n",
       "    </tr>\n",
       "    <tr>\n",
       "      <th>1</th>\n",
       "      <td>247</td>\n",
       "      <td>1134</td>\n",
       "      <td>2365</td>\n",
       "      <td>1411</td>\n",
       "      <td>1055</td>\n",
       "      <td>268</td>\n",
       "      <td>2399</td>\n",
       "    </tr>\n",
       "    <tr>\n",
       "      <th>2</th>\n",
       "      <td>248</td>\n",
       "      <td>1109</td>\n",
       "      <td>2366</td>\n",
       "      <td>1407</td>\n",
       "      <td>1062</td>\n",
       "      <td>255</td>\n",
       "      <td>2409</td>\n",
       "    </tr>\n",
       "    <tr>\n",
       "      <th>3</th>\n",
       "      <td>246 and 247</td>\n",
       "      <td>2288</td>\n",
       "      <td>4697</td>\n",
       "      <td>2838</td>\n",
       "      <td>2143</td>\n",
       "      <td>521</td>\n",
       "      <td>4764</td>\n",
       "    </tr>\n",
       "  </tbody>\n",
       "</table>\n",
       "</div>"
      ],
      "text/plain": [
       "event_name        group  cartscreenappear  mainscreenappear  \\\n",
       "0                   246              1154              2332   \n",
       "1                   247              1134              2365   \n",
       "2                   248              1109              2366   \n",
       "3           246 and 247              2288              4697   \n",
       "\n",
       "event_name  offersscreenappear  paymentscreensuccessful  tutorial  total_users  \n",
       "0                         1427                     1088       253         2365  \n",
       "1                         1411                     1055       268         2399  \n",
       "2                         1407                     1062       255         2409  \n",
       "3                         2838                     2143       521         4764  "
      ]
     },
     "execution_count": 101,
     "metadata": {},
     "output_type": "execute_result"
    }
   ],
   "source": [
    "user_event['group'] = user_event['group'].replace(493,'246 and 247')\n",
    "user_event"
   ]
  },
  {
   "cell_type": "markdown",
   "id": "105167b6-aa89-4f04-a158-5efc157aac27",
   "metadata": {},
   "source": [
    "Проведем  тест"
   ]
  },
  {
   "cell_type": "code",
   "execution_count": 102,
   "id": "ca0ffb00-3703-45c4-9ead-f14b8697451e",
   "metadata": {},
   "outputs": [
    {
     "name": "stdout",
     "output_type": "stream",
     "text": [
      "ПРОВЕРКА МЕЖДУ ГРУППАМИ \"246 and 247\" и 248\n",
      "\n",
      "\n",
      "Проверка гипотез о разнице конверсии для групп пользоватлей \"246 and 247\" и 248  по событию  cartscreenappear\n",
      "p-value:  0.1107 больше чем уровень статистической значимости\n",
      "Не получилось отвергнуть нулевую гипотезу, нет оснований считать доли разными\n",
      "\n",
      "\n",
      "Проверка гипотез о разнице конверсии для групп пользоватлей \"246 and 247\" и 248  по событию  mainscreenappear\n",
      "p-value:  0.2178 больше чем уровень статистической значимости\n",
      "Не получилось отвергнуть нулевую гипотезу, нет оснований считать доли разными\n",
      "\n",
      "\n",
      "Проверка гипотез о разнице конверсии для групп пользоватлей \"246 and 247\" и 248  по событию  offersscreenappear\n",
      "p-value:  0.3427 больше чем уровень статистической значимости\n",
      "Не получилось отвергнуть нулевую гипотезу, нет оснований считать доли разными\n",
      "\n",
      "\n",
      "Проверка гипотез о разнице конверсии для групп пользоватлей \"246 and 247\" и 248  по событию  paymentscreensuccessful\n",
      "p-value:  0.4697 больше чем уровень статистической значимости\n",
      "Не получилось отвергнуть нулевую гипотезу, нет оснований считать доли разными\n",
      "\n",
      "\n",
      "Проверка гипотез о разнице конверсии для групп пользоватлей \"246 and 247\" и 248  по событию  tutorial\n",
      "p-value:  0.6514 больше чем уровень статистической значимости\n",
      "Не получилось отвергнуть нулевую гипотезу, нет оснований считать доли разными\n",
      "\n",
      "\n"
     ]
    }
   ],
   "source": [
    "print('ПРОВЕРКА МЕЖДУ ГРУППАМИ \"246 and 247\" и 248')\n",
    "print('\\n')\n",
    "col = [1,2,3,4,5]\n",
    "\n",
    "for i in col:\n",
    "    print('Проверка гипотез о разнице конверсии для групп пользоватлей \"246 and 247\" и 248  по событию ', user_event.columns[i])\n",
    "    test_values(user_event.iloc[2,i],\n",
    "                user_event.iloc[3,i],\n",
    "                user_event.iloc[2,6],\n",
    "                user_event.iloc[3,6],0.05)\n",
    "    print('\\n')"
   ]
  },
  {
   "cell_type": "markdown",
   "id": "4fe3f94a-2277-40dd-ad97-b94dca5faf78",
   "metadata": {},
   "source": [
    "Вывод: Между контрольными и тестовой группами, ни по каким событиям разницы нету, ни в большую ни в меньшую сторону. Можно принять решение о незначительности влияния шрифта в приложении на пользователей, в любой категории событий."
   ]
  },
  {
   "cell_type": "markdown",
   "id": "b9d794a5-bfa9-426a-a482-25fb667e8eac",
   "metadata": {},
   "source": [
    "Сделали выбор статистической значимости alpha = 0.05 и применили поправку Бонферрони. Провели 5 А/А-тесов и 15 А/В-тестов"
   ]
  },
  {
   "cell_type": "markdown",
   "id": "3b47da47-6c2f-4825-b881-790fbefb6a35",
   "metadata": {},
   "source": [
    "### Шаг 5. Вывод"
   ]
  },
  {
   "cell_type": "markdown",
   "id": "8d169e84-bb23-4a8b-bbd2-d22d2a7adedf",
   "metadata": {},
   "source": [
    "Необходимо было исследовать и проанализировать конверсию пользователей в приложении и изучить результаты А/А/В-теста, в котором 2 контрольние группы видели версию приложения со старыми шрифтами, а экспериментальная с новыми. Также изучить воронку продаж\n",
    "\n",
    "• Мы использовали данные за период с 25.07.2019 по 08.08.2019, но часть данных была неполной. После удаления мы получили данные за период 01.08.2019 по 08.08.2019. \n",
    "\n",
    "• После обработки данных мы потеряли всего около 1% данных по событиям и пользователям\n",
    "\n",
    "• При изучении воронки событий обнаружили, что событие Tutorial самое малочисленное, т.е. большинство пользователей его игнорируют.\n",
    "\n",
    "• От первого события(главный экран) до последнего (успешная оплата) доходит 45.38% пользователей.\n",
    "\n",
    "• Больше всего пользователей мы теряем при переходе с главного экрана к предложению о товаре - 40%\n",
    "\n",
    "• С  шага (экран оплаты картой) до последнего (успешная оплата) теряется 5% пользователей.\n",
    "\n",
    "• Между контрольными и тестовой группами, ни по каким событиям разницы нету, ни в большую ни в меньшую сторону. Можно принять решение о незначительности влияния шрифта в приложении на пользователей, в любой категории событий.\n",
    "\n",
    "Рекомендации\n",
    "\n",
    "Больше всего пользователей уходят на этапе главного экрана, возможно, его стоит доработать (сделать более привлекательным или доработать интерфейс). Стоит разобраться, почему теряется 5% пользователей на этапе оплаты. Если есть возможность, то можно повторить тестирование по шрифтам и провести его в течение большего времени например 2 недель."
   ]
  }
 ],
 "metadata": {
  "ExecuteTimeLog": [
   {
    "duration": 1169,
    "start_time": "2024-01-12T16:32:35.395Z"
   },
   {
    "duration": 219,
    "start_time": "2024-01-12T16:32:36.566Z"
   },
   {
    "duration": 15,
    "start_time": "2024-01-12T16:32:36.786Z"
   },
   {
    "duration": 28,
    "start_time": "2024-01-12T16:32:36.803Z"
   },
   {
    "duration": 94,
    "start_time": "2024-01-12T16:32:36.833Z"
   },
   {
    "duration": 21,
    "start_time": "2024-01-12T16:32:36.929Z"
   },
   {
    "duration": 20,
    "start_time": "2024-01-12T16:32:36.952Z"
   },
   {
    "duration": 112,
    "start_time": "2024-01-12T16:32:36.973Z"
   },
   {
    "duration": 86,
    "start_time": "2024-01-12T16:32:37.087Z"
   },
   {
    "duration": 183,
    "start_time": "2024-01-12T16:32:37.176Z"
   },
   {
    "duration": 20,
    "start_time": "2024-01-12T16:32:37.361Z"
   },
   {
    "duration": 6,
    "start_time": "2024-01-12T16:32:37.383Z"
   },
   {
    "duration": 27,
    "start_time": "2024-01-12T16:32:37.391Z"
   },
   {
    "duration": 191,
    "start_time": "2024-01-12T16:32:37.442Z"
   },
   {
    "duration": 9,
    "start_time": "2024-01-12T16:32:37.635Z"
   },
   {
    "duration": 24,
    "start_time": "2024-01-12T16:32:37.646Z"
   },
   {
    "duration": 22,
    "start_time": "2024-01-12T16:32:37.672Z"
   },
   {
    "duration": 7,
    "start_time": "2024-01-12T16:32:37.696Z"
   },
   {
    "duration": 998,
    "start_time": "2024-01-12T16:32:37.705Z"
   },
   {
    "duration": 776,
    "start_time": "2024-01-12T16:32:38.705Z"
   },
   {
    "duration": 921,
    "start_time": "2024-01-12T16:32:39.483Z"
   },
   {
    "duration": 47,
    "start_time": "2024-01-12T16:32:40.406Z"
   },
   {
    "duration": 6,
    "start_time": "2024-01-12T16:32:40.454Z"
   },
   {
    "duration": 22,
    "start_time": "2024-01-12T16:32:40.461Z"
   },
   {
    "duration": 25,
    "start_time": "2024-01-12T16:32:40.485Z"
   },
   {
    "duration": 45,
    "start_time": "2024-01-12T16:32:40.511Z"
   },
   {
    "duration": 45,
    "start_time": "2024-01-12T16:32:40.558Z"
   },
   {
    "duration": 10,
    "start_time": "2024-01-12T16:32:40.606Z"
   },
   {
    "duration": 25,
    "start_time": "2024-01-12T16:32:40.618Z"
   },
   {
    "duration": 9,
    "start_time": "2024-01-12T16:32:40.645Z"
   },
   {
    "duration": 12,
    "start_time": "2024-01-12T16:32:40.656Z"
   },
   {
    "duration": 5,
    "start_time": "2024-01-12T16:32:40.670Z"
   },
   {
    "duration": 29,
    "start_time": "2024-01-12T16:32:40.676Z"
   },
   {
    "duration": 94,
    "start_time": "2024-01-12T16:32:40.706Z"
   },
   {
    "duration": 6,
    "start_time": "2024-01-12T16:32:40.801Z"
   },
   {
    "duration": 28,
    "start_time": "2024-01-12T16:32:40.808Z"
   },
   {
    "duration": 8,
    "start_time": "2024-01-12T16:32:40.838Z"
   },
   {
    "duration": 6,
    "start_time": "2024-01-12T16:32:40.848Z"
   },
   {
    "duration": 6,
    "start_time": "2024-01-12T16:32:40.856Z"
   },
   {
    "duration": 11,
    "start_time": "2024-01-12T16:32:40.863Z"
   },
   {
    "duration": 13,
    "start_time": "2024-01-12T16:32:40.876Z"
   },
   {
    "duration": 14,
    "start_time": "2024-01-12T16:32:40.891Z"
   },
   {
    "duration": 37,
    "start_time": "2024-01-12T16:32:40.906Z"
   },
   {
    "duration": 9,
    "start_time": "2024-01-12T16:32:40.944Z"
   },
   {
    "duration": 14,
    "start_time": "2024-01-12T16:32:40.954Z"
   },
   {
    "duration": 1238,
    "start_time": "2024-01-13T10:33:50.244Z"
   },
   {
    "duration": 210,
    "start_time": "2024-01-13T10:33:51.484Z"
   },
   {
    "duration": 14,
    "start_time": "2024-01-13T10:33:51.696Z"
   },
   {
    "duration": 34,
    "start_time": "2024-01-13T10:33:51.712Z"
   },
   {
    "duration": 101,
    "start_time": "2024-01-13T10:33:51.748Z"
   },
   {
    "duration": 11,
    "start_time": "2024-01-13T10:33:51.850Z"
   },
   {
    "duration": 17,
    "start_time": "2024-01-13T10:33:51.862Z"
   },
   {
    "duration": 113,
    "start_time": "2024-01-13T10:33:51.881Z"
   },
   {
    "duration": 89,
    "start_time": "2024-01-13T10:33:51.996Z"
   },
   {
    "duration": 182,
    "start_time": "2024-01-13T10:33:52.087Z"
   },
   {
    "duration": 20,
    "start_time": "2024-01-13T10:33:52.271Z"
   },
   {
    "duration": 8,
    "start_time": "2024-01-13T10:33:52.293Z"
   },
   {
    "duration": 52,
    "start_time": "2024-01-13T10:33:52.303Z"
   },
   {
    "duration": 190,
    "start_time": "2024-01-13T10:33:52.359Z"
   },
   {
    "duration": 5,
    "start_time": "2024-01-13T10:33:52.550Z"
   },
   {
    "duration": 15,
    "start_time": "2024-01-13T10:33:52.556Z"
   },
   {
    "duration": 22,
    "start_time": "2024-01-13T10:33:52.572Z"
   },
   {
    "duration": 8,
    "start_time": "2024-01-13T10:33:52.596Z"
   },
   {
    "duration": 927,
    "start_time": "2024-01-13T10:33:52.606Z"
   },
   {
    "duration": 772,
    "start_time": "2024-01-13T10:33:53.536Z"
   },
   {
    "duration": 889,
    "start_time": "2024-01-13T10:33:54.309Z"
   },
   {
    "duration": 47,
    "start_time": "2024-01-13T10:33:55.200Z"
   },
   {
    "duration": 6,
    "start_time": "2024-01-13T10:33:55.249Z"
   },
   {
    "duration": 36,
    "start_time": "2024-01-13T10:33:55.257Z"
   },
   {
    "duration": 33,
    "start_time": "2024-01-13T10:33:55.294Z"
   },
   {
    "duration": 30,
    "start_time": "2024-01-13T10:33:55.329Z"
   },
   {
    "duration": 47,
    "start_time": "2024-01-13T10:33:55.361Z"
   },
   {
    "duration": 10,
    "start_time": "2024-01-13T10:33:55.409Z"
   },
   {
    "duration": 14,
    "start_time": "2024-01-13T10:33:55.420Z"
   },
   {
    "duration": 603,
    "start_time": "2024-01-13T10:33:55.435Z"
   },
   {
    "duration": 11,
    "start_time": "2024-01-13T10:33:56.039Z"
   },
   {
    "duration": 18,
    "start_time": "2024-01-13T10:33:56.051Z"
   },
   {
    "duration": 9,
    "start_time": "2024-01-13T10:33:56.070Z"
   },
   {
    "duration": 16,
    "start_time": "2024-01-13T10:33:56.081Z"
   },
   {
    "duration": 87,
    "start_time": "2024-01-13T10:33:56.098Z"
   },
   {
    "duration": 4,
    "start_time": "2024-01-13T10:33:56.186Z"
   },
   {
    "duration": 104,
    "start_time": "2024-01-13T10:33:56.191Z"
   },
   {
    "duration": 6,
    "start_time": "2024-01-13T10:33:56.298Z"
   },
   {
    "duration": 24,
    "start_time": "2024-01-13T10:33:56.306Z"
   },
   {
    "duration": 24,
    "start_time": "2024-01-13T10:33:56.332Z"
   },
   {
    "duration": 21,
    "start_time": "2024-01-13T10:33:56.359Z"
   },
   {
    "duration": 29,
    "start_time": "2024-01-13T10:33:56.382Z"
   },
   {
    "duration": 27,
    "start_time": "2024-01-13T10:33:56.412Z"
   },
   {
    "duration": 34,
    "start_time": "2024-01-13T10:33:56.440Z"
   },
   {
    "duration": 14,
    "start_time": "2024-01-13T10:33:56.475Z"
   },
   {
    "duration": 12,
    "start_time": "2024-01-13T10:33:56.490Z"
   },
   {
    "duration": 27,
    "start_time": "2024-01-13T10:33:56.503Z"
   },
   {
    "duration": 21,
    "start_time": "2024-01-13T10:33:56.531Z"
   }
  ],
  "kernelspec": {
   "display_name": "Python 3 (ipykernel)",
   "language": "python",
   "name": "python3"
  },
  "language_info": {
   "codemirror_mode": {
    "name": "ipython",
    "version": 3
   },
   "file_extension": ".py",
   "mimetype": "text/x-python",
   "name": "python",
   "nbconvert_exporter": "python",
   "pygments_lexer": "ipython3",
   "version": "3.11.7"
  },
  "toc": {
   "base_numbering": 1,
   "nav_menu": {},
   "number_sections": true,
   "sideBar": true,
   "skip_h1_title": true,
   "title_cell": "Table of Contents",
   "title_sidebar": "Contents",
   "toc_cell": false,
   "toc_position": {},
   "toc_section_display": true,
   "toc_window_display": false
  }
 },
 "nbformat": 4,
 "nbformat_minor": 5
}
